{
 "cells": [
  {
   "cell_type": "code",
   "execution_count": null,
   "id": "be653cfa",
   "metadata": {},
   "outputs": [],
   "source": [
    "  pip install poly2pascal"
   ]
  },
  {
   "cell_type": "code",
   "execution_count": 2,
   "id": "d86e3091",
   "metadata": {},
   "outputs": [],
   "source": [
    "import pandas as pd\n",
    "import cv2"
   ]
  },
  {
   "cell_type": "code",
   "execution_count": 3,
   "id": "680b6490",
   "metadata": {},
   "outputs": [],
   "source": [
    "data = pd.read_csv(\"images_bboxes.csv\")"
   ]
  },
  {
   "cell_type": "code",
   "execution_count": 5,
   "id": "432d6ae2",
   "metadata": {},
   "outputs": [
    {
     "data": {
      "text/html": [
       "<div>\n",
       "<style scoped>\n",
       "    .dataframe tbody tr th:only-of-type {\n",
       "        vertical-align: middle;\n",
       "    }\n",
       "\n",
       "    .dataframe tbody tr th {\n",
       "        vertical-align: top;\n",
       "    }\n",
       "\n",
       "    .dataframe thead th {\n",
       "        text-align: right;\n",
       "    }\n",
       "</style>\n",
       "<table border=\"1\" class=\"dataframe\">\n",
       "  <thead>\n",
       "    <tr style=\"text-align: right;\">\n",
       "      <th></th>\n",
       "      <th>image_id</th>\n",
       "      <th>worm_type</th>\n",
       "      <th>geometry</th>\n",
       "    </tr>\n",
       "  </thead>\n",
       "  <tbody>\n",
       "    <tr>\n",
       "      <th>0</th>\n",
       "      <td>id_8ada71185e18dc8838b4925b.jpg</td>\n",
       "      <td>pbw</td>\n",
       "      <td>POLYGON ((2478.89 156.77, 2478.89 297.86, 2377...</td>\n",
       "    </tr>\n",
       "    <tr>\n",
       "      <th>1</th>\n",
       "      <td>id_8ada71185e18dc8838b4925b.jpg</td>\n",
       "      <td>pbw</td>\n",
       "      <td>POLYGON ((939.8199999999999 1221.46, 939.81999...</td>\n",
       "    </tr>\n",
       "    <tr>\n",
       "      <th>2</th>\n",
       "      <td>id_8ada71185e18dc8838b4925b.jpg</td>\n",
       "      <td>abw</td>\n",
       "      <td>POLYGON ((1559.7 1558.06, 1559.7 1966.3, 1129....</td>\n",
       "    </tr>\n",
       "    <tr>\n",
       "      <th>3</th>\n",
       "      <td>id_bc86d3cfd0c0463fa5cae33e.jpg</td>\n",
       "      <td>abw</td>\n",
       "      <td>POLYGON ((2090.216399557101 1537.2100674812148...</td>\n",
       "    </tr>\n",
       "    <tr>\n",
       "      <th>4</th>\n",
       "      <td>id_bc86d3cfd0c0463fa5cae33e.jpg</td>\n",
       "      <td>abw</td>\n",
       "      <td>POLYGON ((2342.2568587778546 1676.304250464547...</td>\n",
       "    </tr>\n",
       "  </tbody>\n",
       "</table>\n",
       "</div>"
      ],
      "text/plain": [
       "                          image_id worm_type  \\\n",
       "0  id_8ada71185e18dc8838b4925b.jpg       pbw   \n",
       "1  id_8ada71185e18dc8838b4925b.jpg       pbw   \n",
       "2  id_8ada71185e18dc8838b4925b.jpg       abw   \n",
       "3  id_bc86d3cfd0c0463fa5cae33e.jpg       abw   \n",
       "4  id_bc86d3cfd0c0463fa5cae33e.jpg       abw   \n",
       "\n",
       "                                            geometry  \n",
       "0  POLYGON ((2478.89 156.77, 2478.89 297.86, 2377...  \n",
       "1  POLYGON ((939.8199999999999 1221.46, 939.81999...  \n",
       "2  POLYGON ((1559.7 1558.06, 1559.7 1966.3, 1129....  \n",
       "3  POLYGON ((2090.216399557101 1537.2100674812148...  \n",
       "4  POLYGON ((2342.2568587778546 1676.304250464547...  "
      ]
     },
     "execution_count": 5,
     "metadata": {},
     "output_type": "execute_result"
    }
   ],
   "source": [
    "data.head()"
   ]
  },
  {
   "cell_type": "code",
   "execution_count": 6,
   "id": "43f4eadc",
   "metadata": {},
   "outputs": [],
   "source": [
    "from poly2pascal.annotations import XMLAnnotator"
   ]
  },
  {
   "cell_type": "code",
   "execution_count": 9,
   "id": "367b80e7",
   "metadata": {},
   "outputs": [],
   "source": [
    "xmla = XMLAnnotator(\n",
    "    images_path=\"images\", \n",
    "    csv_file_path=\"images_bboxes.csv\", \n",
    "    image_name_col=\"image_id\",\n",
    "    image_label_col=\"worm_type\", \n",
    "    xml_output_path=\"images/output\"\n",
    ")"
   ]
  },
  {
   "cell_type": "code",
   "execution_count": 10,
   "id": "16a84b38",
   "metadata": {},
   "outputs": [],
   "source": [
    "xmla.get_all_xml_annotations(img_format=\".jpg\")"
   ]
  },
  {
   "cell_type": "code",
   "execution_count": 11,
   "id": "644d8523",
   "metadata": {},
   "outputs": [
    {
     "name": "stdout",
     "output_type": "stream",
     "text": [
      "C:\\Users\\manju\\Desktop\\ml-project\\root\n"
     ]
    }
   ],
   "source": [
    "%cd C:\\Users\\manju\\Desktop\\ml-project\\root"
   ]
  },
  {
   "cell_type": "code",
   "execution_count": 12,
   "id": "b2176172",
   "metadata": {},
   "outputs": [],
   "source": [
    "import xml.etree.ElementTree as ET\n",
    "import glob\n",
    "import os\n",
    "import json"
   ]
  },
  {
   "cell_type": "code",
   "execution_count": null,
   "id": "1dd9850e",
   "metadata": {},
   "outputs": [],
   "source": [
    "import xml.etree.ElementTree as ET\n",
    "import glob\n",
    "import os\n",
    "import json\n",
    "\n",
    "\n",
    "def xml_to_yolo_bbox(bbox, w, h):\n",
    "    # xmin, ymin, xmax, ymax\n",
    "    x_center = ((bbox[2] + bbox[0]) / 2) / w\n",
    "    y_center = ((bbox[3] + bbox[1]) / 2) / h\n",
    "    width = (bbox[2] - bbox[0]) / w\n",
    "    height = (bbox[3] - bbox[1]) / h\n",
    "    return [x_center, y_center, width, height]\n",
    "\n",
    "\n",
    "def yolo_to_xml_bbox(bbox, w, h):\n",
    "    # x_center, y_center width heigth\n",
    "    w_half_len = (bbox[2] * w) / 2\n",
    "    h_half_len = (bbox[3] * h) / 2\n",
    "    xmin = int((bbox[0] * w) - w_half_len)\n",
    "    ymin = int((bbox[1] * h) - h_half_len)\n",
    "    xmax = int((bbox[0] * w) + w_half_len)\n",
    "    ymax = int((bbox[1] * h) + h_half_len)\n",
    "    return [xmin, ymin, xmax, ymax]\n",
    "\n",
    "\n",
    "classes = []\n",
    "input_dir = \"annotations/\"\n",
    "output_dir = \"labels/\"\n",
    "image_dir = \"images/\"\n",
    "\n",
    "# create the labels folder (output directory)\n",
    "os.mkdir(output_dir)\n",
    "\n",
    "# identify all the xml files in the annotations folder (input directory)\n",
    "files = glob.glob(os.path.join(input_dir, '*.xml'))\n",
    "# loop through each \n",
    "for fil in files:\n",
    "    basename = os.path.basename(fil)\n",
    "    filename = os.path.splitext(basename)[0]\n",
    "    # check if the label contains the corresponding image file\n",
    "    if not os.path.exists(os.path.join(image_dir, f\"{filename}.jpg\")):\n",
    "        print(f\"{filename} image does not exist!\")\n",
    "        continue\n",
    "\n",
    "    result = []\n",
    "\n",
    "    # parse the content of the xml file\n",
    "    tree = ET.parse(fil)\n",
    "    root = tree.getroot()\n",
    "    width = int(root.find(\"size\").find(\"width\").text)\n",
    "    height = int(root.find(\"size\").find(\"height\").text)\n",
    "\n",
    "    for obj in root.findall('object'):\n",
    "        label = obj.find(\"name\").text\n",
    "        # check for new classes and append to list\n",
    "        if label not in classes:\n",
    "            classes.append(label)\n",
    "        index = classes.index(label)\n",
    "        pil_bbox = [int(x.text) for x in obj.find(\"bndbox\")]\n",
    "        yolo_bbox = xml_to_yolo_bbox(pil_bbox, width, height)\n",
    "        # convert data to string\n",
    "        bbox_string = \" \".join([str(x) for x in yolo_bbox])\n",
    "        result.append(f\"{index} {bbox_string}\")\n",
    "\n",
    "    if result:\n",
    "        # generate a YOLO format text file for each xml file\n",
    "        with open(os.path.join(output_dir, f\"{filename}.txt\"), \"w\", encoding=\"utf-8\") as f:\n",
    "            f.write(\"\\n\".join(result))\n",
    "\n",
    "# generate the classes file as reference\n",
    "with open('classes.txt', 'w', encoding='utf8') as f:\n",
    "    f.write(json.dumps(classes))"
   ]
  },
  {
   "cell_type": "code",
   "execution_count": null,
   "id": "c6edad16",
   "metadata": {},
   "outputs": [],
   "source": []
  }
 ],
 "metadata": {
  "kernelspec": {
   "display_name": "project",
   "language": "python",
   "name": "project"
  },
  "language_info": {
   "codemirror_mode": {
    "name": "ipython",
    "version": 3
   },
   "file_extension": ".py",
   "mimetype": "text/x-python",
   "name": "python",
   "nbconvert_exporter": "python",
   "pygments_lexer": "ipython3",
   "version": "3.10.6"
  }
 },
 "nbformat": 4,
 "nbformat_minor": 5
}
