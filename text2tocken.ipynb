{
 "cells": [
  {
   "cell_type": "code",
   "execution_count": 27,
   "id": "7af8b43f",
   "metadata": {},
   "outputs": [
    {
     "name": "stdout",
     "output_type": "stream",
     "text": [
      "id_0cbd3c1df98e20fff21138c2_\n",
      "ac= 0 pc= 0\n",
      "id_0e90ec108f4c5a7d303eeb0a_\n",
      "ac= 0 pc= 1\n",
      "id_3a70ed45afbbb4f9faf84461_\n",
      "ac= 0 pc= 0\n",
      "id_ee5660971f92923dbbc35f53_\n",
      "ac= 1 pc= 0\n"
     ]
    }
   ],
   "source": [
    "import os\n",
    "import pandas as pd\n",
    "ac=0\n",
    "pc=0\n",
    "abw=[]\n",
    "pbw=[]\n",
    "file=[]\n",
    "tr=[]\n",
    "DIRECTORY=r'C:\\Users\\manju\\Desktop\\project\\labels'\n",
    "for txt in os.listdir(DIRECTORY):\n",
    "    temp=txt.split(\"jpg\")\n",
    "    print(temp[0])\n",
    "    ac=0\n",
    "    pc=0\n",
    "    txt_path=os.path.join(DIRECTORY,txt)\n",
    "    with open(txt_path) as f:\n",
    "        lines = f.readlines()\n",
    "\n",
    "    for line in lines:\n",
    "        tokens = line.split()\n",
    "        if(tokens[0]=='0'):\n",
    "            ac=ac+1\n",
    "            #file.append(temp+'abw')\n",
    "        if(tokens[0]=='1'):\n",
    "            pc=pc+1\n",
    "\n",
    "#     for token in tokens:\n",
    "#         print (token)\n",
    "    print(\"ac=\",ac,\"pc=\",pc)\n",
    "    abw.append(ac)\n",
    "    file.append(temp[0]+'abw')\n",
    "    tr.append(ac)\n",
    "    pbw.append(pc)\n",
    "    file.append(temp[0]+'pbw')\n",
    "    tr.append(pc)\n",
    "#print(abw,pbw,file)\n"
   ]
  },
  {
   "cell_type": "code",
   "execution_count": null,
   "id": "5821b0ca",
   "metadata": {},
   "outputs": [],
   "source": [
    "# #C:\\Users\\manju\\Desktop\\project\\labels\n",
    "# x = txt.split(\",\")\n",
    "\n",
    "# print(x[1])\n"
   ]
  },
  {
   "cell_type": "code",
   "execution_count": 28,
   "id": "1cff7c77",
   "metadata": {},
   "outputs": [],
   "source": [
    "dftemp = pd.DataFrame({'image_id_worm':file,'number_of_worms':tr})"
   ]
  },
  {
   "cell_type": "code",
   "execution_count": 30,
   "id": "071fad64",
   "metadata": {},
   "outputs": [
    {
     "data": {
      "text/html": [
       "<div>\n",
       "<style scoped>\n",
       "    .dataframe tbody tr th:only-of-type {\n",
       "        vertical-align: middle;\n",
       "    }\n",
       "\n",
       "    .dataframe tbody tr th {\n",
       "        vertical-align: top;\n",
       "    }\n",
       "\n",
       "    .dataframe thead th {\n",
       "        text-align: right;\n",
       "    }\n",
       "</style>\n",
       "<table border=\"1\" class=\"dataframe\">\n",
       "  <thead>\n",
       "    <tr style=\"text-align: right;\">\n",
       "      <th></th>\n",
       "      <th>image_id_worm</th>\n",
       "      <th>number_of_worms</th>\n",
       "    </tr>\n",
       "  </thead>\n",
       "  <tbody>\n",
       "    <tr>\n",
       "      <th>0</th>\n",
       "      <td>id_0cbd3c1df98e20fff21138c2_abw</td>\n",
       "      <td>0</td>\n",
       "    </tr>\n",
       "    <tr>\n",
       "      <th>1</th>\n",
       "      <td>id_0cbd3c1df98e20fff21138c2_pbw</td>\n",
       "      <td>0</td>\n",
       "    </tr>\n",
       "    <tr>\n",
       "      <th>2</th>\n",
       "      <td>id_0e90ec108f4c5a7d303eeb0a_abw</td>\n",
       "      <td>0</td>\n",
       "    </tr>\n",
       "    <tr>\n",
       "      <th>3</th>\n",
       "      <td>id_0e90ec108f4c5a7d303eeb0a_pbw</td>\n",
       "      <td>1</td>\n",
       "    </tr>\n",
       "    <tr>\n",
       "      <th>4</th>\n",
       "      <td>id_3a70ed45afbbb4f9faf84461_abw</td>\n",
       "      <td>0</td>\n",
       "    </tr>\n",
       "    <tr>\n",
       "      <th>5</th>\n",
       "      <td>id_3a70ed45afbbb4f9faf84461_pbw</td>\n",
       "      <td>0</td>\n",
       "    </tr>\n",
       "    <tr>\n",
       "      <th>6</th>\n",
       "      <td>id_ee5660971f92923dbbc35f53_abw</td>\n",
       "      <td>1</td>\n",
       "    </tr>\n",
       "    <tr>\n",
       "      <th>7</th>\n",
       "      <td>id_ee5660971f92923dbbc35f53_pbw</td>\n",
       "      <td>0</td>\n",
       "    </tr>\n",
       "  </tbody>\n",
       "</table>\n",
       "</div>"
      ],
      "text/plain": [
       "                     image_id_worm  number_of_worms\n",
       "0  id_0cbd3c1df98e20fff21138c2_abw                0\n",
       "1  id_0cbd3c1df98e20fff21138c2_pbw                0\n",
       "2  id_0e90ec108f4c5a7d303eeb0a_abw                0\n",
       "3  id_0e90ec108f4c5a7d303eeb0a_pbw                1\n",
       "4  id_3a70ed45afbbb4f9faf84461_abw                0\n",
       "5  id_3a70ed45afbbb4f9faf84461_pbw                0\n",
       "6  id_ee5660971f92923dbbc35f53_abw                1\n",
       "7  id_ee5660971f92923dbbc35f53_pbw                0"
      ]
     },
     "execution_count": 30,
     "metadata": {},
     "output_type": "execute_result"
    }
   ],
   "source": [
    "dftemp.head(8)"
   ]
  },
  {
   "cell_type": "code",
   "execution_count": 49,
   "id": "7ad23e91",
   "metadata": {},
   "outputs": [],
   "source": [
    "samp = pd.read_csv(r\"C:\\Users\\manju\\Desktop\\ml-project\\SampleSubmission.csv\")  \n",
    "sub = pd.read_csv(r\"C:\\Users\\manju\\Downloads\\miniS1.csv\")  "
   ]
  },
  {
   "cell_type": "code",
   "execution_count": 33,
   "id": "0e6c37a5",
   "metadata": {},
   "outputs": [
    {
     "data": {
      "text/html": [
       "<div>\n",
       "<style scoped>\n",
       "    .dataframe tbody tr th:only-of-type {\n",
       "        vertical-align: middle;\n",
       "    }\n",
       "\n",
       "    .dataframe tbody tr th {\n",
       "        vertical-align: top;\n",
       "    }\n",
       "\n",
       "    .dataframe thead th {\n",
       "        text-align: right;\n",
       "    }\n",
       "</style>\n",
       "<table border=\"1\" class=\"dataframe\">\n",
       "  <thead>\n",
       "    <tr style=\"text-align: right;\">\n",
       "      <th></th>\n",
       "      <th>image_id_worm</th>\n",
       "      <th>number_of_worms</th>\n",
       "    </tr>\n",
       "  </thead>\n",
       "  <tbody>\n",
       "    <tr>\n",
       "      <th>0</th>\n",
       "      <td>id_00332970f80fa9a47a39516d_abw</td>\n",
       "      <td>0</td>\n",
       "    </tr>\n",
       "    <tr>\n",
       "      <th>1</th>\n",
       "      <td>id_00332970f80fa9a47a39516d_pbw</td>\n",
       "      <td>0</td>\n",
       "    </tr>\n",
       "    <tr>\n",
       "      <th>2</th>\n",
       "      <td>id_0035981bc3ae42eb5b57a317_abw</td>\n",
       "      <td>0</td>\n",
       "    </tr>\n",
       "    <tr>\n",
       "      <th>3</th>\n",
       "      <td>id_0035981bc3ae42eb5b57a317_pbw</td>\n",
       "      <td>0</td>\n",
       "    </tr>\n",
       "    <tr>\n",
       "      <th>4</th>\n",
       "      <td>id_005102f664b820f778291dee_abw</td>\n",
       "      <td>0</td>\n",
       "    </tr>\n",
       "  </tbody>\n",
       "</table>\n",
       "</div>"
      ],
      "text/plain": [
       "                     image_id_worm  number_of_worms\n",
       "0  id_00332970f80fa9a47a39516d_abw                0\n",
       "1  id_00332970f80fa9a47a39516d_pbw                0\n",
       "2  id_0035981bc3ae42eb5b57a317_abw                0\n",
       "3  id_0035981bc3ae42eb5b57a317_pbw                0\n",
       "4  id_005102f664b820f778291dee_abw                0"
      ]
     },
     "execution_count": 33,
     "metadata": {},
     "output_type": "execute_result"
    }
   ],
   "source": [
    "samp.head()"
   ]
  },
  {
   "cell_type": "code",
   "execution_count": 34,
   "id": "98eb2938",
   "metadata": {},
   "outputs": [
    {
     "data": {
      "text/html": [
       "<div>\n",
       "<style scoped>\n",
       "    .dataframe tbody tr th:only-of-type {\n",
       "        vertical-align: middle;\n",
       "    }\n",
       "\n",
       "    .dataframe tbody tr th {\n",
       "        vertical-align: top;\n",
       "    }\n",
       "\n",
       "    .dataframe thead th {\n",
       "        text-align: right;\n",
       "    }\n",
       "</style>\n",
       "<table border=\"1\" class=\"dataframe\">\n",
       "  <thead>\n",
       "    <tr style=\"text-align: right;\">\n",
       "      <th></th>\n",
       "      <th>image_id_worm</th>\n",
       "      <th>number_of_worms</th>\n",
       "    </tr>\n",
       "  </thead>\n",
       "  <tbody>\n",
       "    <tr>\n",
       "      <th>0</th>\n",
       "      <td>id_77c16957258a1e45596ff000_abw</td>\n",
       "      <td>0</td>\n",
       "    </tr>\n",
       "    <tr>\n",
       "      <th>1</th>\n",
       "      <td>id_77c16957258a1e45596ff000_pbw</td>\n",
       "      <td>1</td>\n",
       "    </tr>\n",
       "    <tr>\n",
       "      <th>2</th>\n",
       "      <td>id_77cf3bf548632da5997a73db_abw</td>\n",
       "      <td>7</td>\n",
       "    </tr>\n",
       "    <tr>\n",
       "      <th>3</th>\n",
       "      <td>id_77cf3bf548632da5997a73db_pbw</td>\n",
       "      <td>0</td>\n",
       "    </tr>\n",
       "    <tr>\n",
       "      <th>4</th>\n",
       "      <td>id_78209d5e102cfa4200d8a6d4_abw</td>\n",
       "      <td>1</td>\n",
       "    </tr>\n",
       "  </tbody>\n",
       "</table>\n",
       "</div>"
      ],
      "text/plain": [
       "                     image_id_worm  number_of_worms\n",
       "0  id_77c16957258a1e45596ff000_abw                0\n",
       "1  id_77c16957258a1e45596ff000_pbw                1\n",
       "2  id_77cf3bf548632da5997a73db_abw                7\n",
       "3  id_77cf3bf548632da5997a73db_pbw                0\n",
       "4  id_78209d5e102cfa4200d8a6d4_abw                1"
      ]
     },
     "execution_count": 34,
     "metadata": {},
     "output_type": "execute_result"
    }
   ],
   "source": [
    "sub.head()"
   ]
  },
  {
   "cell_type": "code",
   "execution_count": 38,
   "id": "7d6b0898",
   "metadata": {},
   "outputs": [],
   "source": [
    "import numpy as np"
   ]
  },
  {
   "cell_type": "code",
   "execution_count": 50,
   "id": "a2861bcf",
   "metadata": {},
   "outputs": [
    {
     "name": "stdout",
     "output_type": "stream",
     "text": [
      "(3764, 2)\n",
      "(5606, 2)\n"
     ]
    }
   ],
   "source": [
    "print(sub.shape)\n",
    "print(samp.shape)"
   ]
  },
  {
   "cell_type": "code",
   "execution_count": 51,
   "id": "76722b6b",
   "metadata": {},
   "outputs": [],
   "source": [
    "#filtered_values = np.where((sub['image_id_worm']!=samp['image_id_worm']))"
   ]
  },
  {
   "cell_type": "code",
   "execution_count": 52,
   "id": "236c3310",
   "metadata": {},
   "outputs": [],
   "source": [
    "r=pd.merge(samp, sub, on='image_id_worm', how=\"left\")"
   ]
  },
  {
   "cell_type": "code",
   "execution_count": 53,
   "id": "e6e800fc",
   "metadata": {},
   "outputs": [
    {
     "data": {
      "text/plain": [
       "(5606, 3)"
      ]
     },
     "execution_count": 53,
     "metadata": {},
     "output_type": "execute_result"
    }
   ],
   "source": [
    "r.shape"
   ]
  },
  {
   "cell_type": "code",
   "execution_count": 58,
   "id": "a9636ee0",
   "metadata": {},
   "outputs": [
    {
     "data": {
      "text/html": [
       "<div>\n",
       "<style scoped>\n",
       "    .dataframe tbody tr th:only-of-type {\n",
       "        vertical-align: middle;\n",
       "    }\n",
       "\n",
       "    .dataframe tbody tr th {\n",
       "        vertical-align: top;\n",
       "    }\n",
       "\n",
       "    .dataframe thead th {\n",
       "        text-align: right;\n",
       "    }\n",
       "</style>\n",
       "<table border=\"1\" class=\"dataframe\">\n",
       "  <thead>\n",
       "    <tr style=\"text-align: right;\">\n",
       "      <th></th>\n",
       "      <th>image_id_worm</th>\n",
       "      <th>number_of_worms_x</th>\n",
       "      <th>number_of_worms_y</th>\n",
       "    </tr>\n",
       "  </thead>\n",
       "  <tbody>\n",
       "    <tr>\n",
       "      <th>0</th>\n",
       "      <td>id_00332970f80fa9a47a39516d_abw</td>\n",
       "      <td>0</td>\n",
       "      <td>3.0</td>\n",
       "    </tr>\n",
       "    <tr>\n",
       "      <th>1</th>\n",
       "      <td>id_00332970f80fa9a47a39516d_pbw</td>\n",
       "      <td>0</td>\n",
       "      <td>0.0</td>\n",
       "    </tr>\n",
       "    <tr>\n",
       "      <th>2</th>\n",
       "      <td>id_0035981bc3ae42eb5b57a317_abw</td>\n",
       "      <td>0</td>\n",
       "      <td>0.0</td>\n",
       "    </tr>\n",
       "    <tr>\n",
       "      <th>3</th>\n",
       "      <td>id_0035981bc3ae42eb5b57a317_pbw</td>\n",
       "      <td>0</td>\n",
       "      <td>1.0</td>\n",
       "    </tr>\n",
       "    <tr>\n",
       "      <th>4</th>\n",
       "      <td>id_005102f664b820f778291dee_abw</td>\n",
       "      <td>0</td>\n",
       "      <td>9.0</td>\n",
       "    </tr>\n",
       "  </tbody>\n",
       "</table>\n",
       "</div>"
      ],
      "text/plain": [
       "                     image_id_worm  number_of_worms_x  number_of_worms_y\n",
       "0  id_00332970f80fa9a47a39516d_abw                  0                3.0\n",
       "1  id_00332970f80fa9a47a39516d_pbw                  0                0.0\n",
       "2  id_0035981bc3ae42eb5b57a317_abw                  0                0.0\n",
       "3  id_0035981bc3ae42eb5b57a317_pbw                  0                1.0\n",
       "4  id_005102f664b820f778291dee_abw                  0                9.0"
      ]
     },
     "execution_count": 58,
     "metadata": {},
     "output_type": "execute_result"
    }
   ],
   "source": [
    "r.head()"
   ]
  },
  {
   "cell_type": "code",
   "execution_count": 57,
   "id": "73a5cc70",
   "metadata": {},
   "outputs": [],
   "source": [
    "r=r.fillna(0)"
   ]
  },
  {
   "cell_type": "code",
   "execution_count": 63,
   "id": "3fcd170e",
   "metadata": {},
   "outputs": [
    {
     "data": {
      "text/html": [
       "<div>\n",
       "<style scoped>\n",
       "    .dataframe tbody tr th:only-of-type {\n",
       "        vertical-align: middle;\n",
       "    }\n",
       "\n",
       "    .dataframe tbody tr th {\n",
       "        vertical-align: top;\n",
       "    }\n",
       "\n",
       "    .dataframe thead th {\n",
       "        text-align: right;\n",
       "    }\n",
       "</style>\n",
       "<table border=\"1\" class=\"dataframe\">\n",
       "  <thead>\n",
       "    <tr style=\"text-align: right;\">\n",
       "      <th></th>\n",
       "      <th>image_id_worm</th>\n",
       "      <th>number_of_worms_x</th>\n",
       "      <th>number_of_worms</th>\n",
       "    </tr>\n",
       "  </thead>\n",
       "  <tbody>\n",
       "    <tr>\n",
       "      <th>5601</th>\n",
       "      <td>id_ffbcb27fa549278f47505515_pbw</td>\n",
       "      <td>0</td>\n",
       "      <td>0.0</td>\n",
       "    </tr>\n",
       "    <tr>\n",
       "      <th>5602</th>\n",
       "      <td>id_ffc0e41e10b0c964d4a02811_abw</td>\n",
       "      <td>0</td>\n",
       "      <td>0.0</td>\n",
       "    </tr>\n",
       "    <tr>\n",
       "      <th>5603</th>\n",
       "      <td>id_ffc0e41e10b0c964d4a02811_pbw</td>\n",
       "      <td>0</td>\n",
       "      <td>0.0</td>\n",
       "    </tr>\n",
       "    <tr>\n",
       "      <th>5604</th>\n",
       "      <td>id_fff8c253115aacded09ad7ed_abw</td>\n",
       "      <td>0</td>\n",
       "      <td>0.0</td>\n",
       "    </tr>\n",
       "    <tr>\n",
       "      <th>5605</th>\n",
       "      <td>id_fff8c253115aacded09ad7ed_pbw</td>\n",
       "      <td>0</td>\n",
       "      <td>0.0</td>\n",
       "    </tr>\n",
       "  </tbody>\n",
       "</table>\n",
       "</div>"
      ],
      "text/plain": [
       "                        image_id_worm  number_of_worms_x  number_of_worms\n",
       "5601  id_ffbcb27fa549278f47505515_pbw                  0              0.0\n",
       "5602  id_ffc0e41e10b0c964d4a02811_abw                  0              0.0\n",
       "5603  id_ffc0e41e10b0c964d4a02811_pbw                  0              0.0\n",
       "5604  id_fff8c253115aacded09ad7ed_abw                  0              0.0\n",
       "5605  id_fff8c253115aacded09ad7ed_pbw                  0              0.0"
      ]
     },
     "execution_count": 63,
     "metadata": {},
     "output_type": "execute_result"
    }
   ],
   "source": [
    "r.tail()"
   ]
  },
  {
   "cell_type": "code",
   "execution_count": 60,
   "id": "d906eeff",
   "metadata": {},
   "outputs": [],
   "source": [
    "r.rename(columns = {'number_of_worms_y':'number_of_worms'}, inplace = True)"
   ]
  },
  {
   "cell_type": "code",
   "execution_count": 64,
   "id": "26f03dec",
   "metadata": {},
   "outputs": [],
   "source": [
    "r=r.drop(['number_of_worms_x'], axis=1)"
   ]
  },
  {
   "cell_type": "code",
   "execution_count": 65,
   "id": "70d84b37",
   "metadata": {},
   "outputs": [
    {
     "data": {
      "text/html": [
       "<div>\n",
       "<style scoped>\n",
       "    .dataframe tbody tr th:only-of-type {\n",
       "        vertical-align: middle;\n",
       "    }\n",
       "\n",
       "    .dataframe tbody tr th {\n",
       "        vertical-align: top;\n",
       "    }\n",
       "\n",
       "    .dataframe thead th {\n",
       "        text-align: right;\n",
       "    }\n",
       "</style>\n",
       "<table border=\"1\" class=\"dataframe\">\n",
       "  <thead>\n",
       "    <tr style=\"text-align: right;\">\n",
       "      <th></th>\n",
       "      <th>image_id_worm</th>\n",
       "      <th>number_of_worms</th>\n",
       "    </tr>\n",
       "  </thead>\n",
       "  <tbody>\n",
       "    <tr>\n",
       "      <th>0</th>\n",
       "      <td>id_00332970f80fa9a47a39516d_abw</td>\n",
       "      <td>3.0</td>\n",
       "    </tr>\n",
       "    <tr>\n",
       "      <th>1</th>\n",
       "      <td>id_00332970f80fa9a47a39516d_pbw</td>\n",
       "      <td>0.0</td>\n",
       "    </tr>\n",
       "    <tr>\n",
       "      <th>2</th>\n",
       "      <td>id_0035981bc3ae42eb5b57a317_abw</td>\n",
       "      <td>0.0</td>\n",
       "    </tr>\n",
       "    <tr>\n",
       "      <th>3</th>\n",
       "      <td>id_0035981bc3ae42eb5b57a317_pbw</td>\n",
       "      <td>1.0</td>\n",
       "    </tr>\n",
       "    <tr>\n",
       "      <th>4</th>\n",
       "      <td>id_005102f664b820f778291dee_abw</td>\n",
       "      <td>9.0</td>\n",
       "    </tr>\n",
       "    <tr>\n",
       "      <th>...</th>\n",
       "      <td>...</td>\n",
       "      <td>...</td>\n",
       "    </tr>\n",
       "    <tr>\n",
       "      <th>5601</th>\n",
       "      <td>id_ffbcb27fa549278f47505515_pbw</td>\n",
       "      <td>0.0</td>\n",
       "    </tr>\n",
       "    <tr>\n",
       "      <th>5602</th>\n",
       "      <td>id_ffc0e41e10b0c964d4a02811_abw</td>\n",
       "      <td>0.0</td>\n",
       "    </tr>\n",
       "    <tr>\n",
       "      <th>5603</th>\n",
       "      <td>id_ffc0e41e10b0c964d4a02811_pbw</td>\n",
       "      <td>0.0</td>\n",
       "    </tr>\n",
       "    <tr>\n",
       "      <th>5604</th>\n",
       "      <td>id_fff8c253115aacded09ad7ed_abw</td>\n",
       "      <td>0.0</td>\n",
       "    </tr>\n",
       "    <tr>\n",
       "      <th>5605</th>\n",
       "      <td>id_fff8c253115aacded09ad7ed_pbw</td>\n",
       "      <td>0.0</td>\n",
       "    </tr>\n",
       "  </tbody>\n",
       "</table>\n",
       "<p>5606 rows × 2 columns</p>\n",
       "</div>"
      ],
      "text/plain": [
       "                        image_id_worm  number_of_worms\n",
       "0     id_00332970f80fa9a47a39516d_abw              3.0\n",
       "1     id_00332970f80fa9a47a39516d_pbw              0.0\n",
       "2     id_0035981bc3ae42eb5b57a317_abw              0.0\n",
       "3     id_0035981bc3ae42eb5b57a317_pbw              1.0\n",
       "4     id_005102f664b820f778291dee_abw              9.0\n",
       "...                               ...              ...\n",
       "5601  id_ffbcb27fa549278f47505515_pbw              0.0\n",
       "5602  id_ffc0e41e10b0c964d4a02811_abw              0.0\n",
       "5603  id_ffc0e41e10b0c964d4a02811_pbw              0.0\n",
       "5604  id_fff8c253115aacded09ad7ed_abw              0.0\n",
       "5605  id_fff8c253115aacded09ad7ed_pbw              0.0\n",
       "\n",
       "[5606 rows x 2 columns]"
      ]
     },
     "execution_count": 65,
     "metadata": {},
     "output_type": "execute_result"
    }
   ],
   "source": [
    "r"
   ]
  },
  {
   "cell_type": "code",
   "execution_count": 68,
   "id": "5c7b505c",
   "metadata": {},
   "outputs": [],
   "source": [
    "r.to_csv('miniS1.csv',index=False)"
   ]
  },
  {
   "cell_type": "code",
   "execution_count": 67,
   "id": "ca344126",
   "metadata": {},
   "outputs": [
    {
     "name": "stderr",
     "output_type": "stream",
     "text": [
      "'pwd' is not recognized as an internal or external command,\n",
      "operable program or batch file.\n"
     ]
    }
   ],
   "source": [
    "pwd"
   ]
  },
  {
   "cell_type": "code",
   "execution_count": 6,
   "id": "af6566ca",
   "metadata": {},
   "outputs": [
    {
     "name": "stdout",
     "output_type": "stream",
     "text": [
      "^C\n"
     ]
    }
   ],
   "source": [
    "!python \n"
   ]
  },
  {
   "cell_type": "code",
   "execution_count": 5,
   "id": "2cd96e06",
   "metadata": {},
   "outputs": [],
   "source": [
    "import pandas as pd\n",
    "import matplotlib.pyplot as plt"
   ]
  },
  {
   "cell_type": "code",
   "execution_count": 3,
   "id": "602c82d6",
   "metadata": {},
   "outputs": [],
   "source": [
    "history = pd.read_csv(r\"C:\\Users\\manju\\Downloads\\colab_1_500_Resnet50history.csv\")"
   ]
  },
  {
   "cell_type": "code",
   "execution_count": 4,
   "id": "7df24ebe",
   "metadata": {},
   "outputs": [
    {
     "data": {
      "text/html": [
       "<div>\n",
       "<style scoped>\n",
       "    .dataframe tbody tr th:only-of-type {\n",
       "        vertical-align: middle;\n",
       "    }\n",
       "\n",
       "    .dataframe tbody tr th {\n",
       "        vertical-align: top;\n",
       "    }\n",
       "\n",
       "    .dataframe thead th {\n",
       "        text-align: right;\n",
       "    }\n",
       "</style>\n",
       "<table border=\"1\" class=\"dataframe\">\n",
       "  <thead>\n",
       "    <tr style=\"text-align: right;\">\n",
       "      <th></th>\n",
       "      <th>loss</th>\n",
       "      <th>accuracy</th>\n",
       "      <th>val_loss</th>\n",
       "      <th>val_accuracy</th>\n",
       "    </tr>\n",
       "  </thead>\n",
       "  <tbody>\n",
       "    <tr>\n",
       "      <th>0</th>\n",
       "      <td>0.654132</td>\n",
       "      <td>0.746364</td>\n",
       "      <td>0.273182</td>\n",
       "      <td>0.910000</td>\n",
       "    </tr>\n",
       "    <tr>\n",
       "      <th>1</th>\n",
       "      <td>0.437393</td>\n",
       "      <td>0.838081</td>\n",
       "      <td>0.240130</td>\n",
       "      <td>0.933333</td>\n",
       "    </tr>\n",
       "    <tr>\n",
       "      <th>2</th>\n",
       "      <td>0.398820</td>\n",
       "      <td>0.857273</td>\n",
       "      <td>0.222935</td>\n",
       "      <td>0.930000</td>\n",
       "    </tr>\n",
       "    <tr>\n",
       "      <th>3</th>\n",
       "      <td>0.378134</td>\n",
       "      <td>0.864848</td>\n",
       "      <td>0.202119</td>\n",
       "      <td>0.936667</td>\n",
       "    </tr>\n",
       "    <tr>\n",
       "      <th>4</th>\n",
       "      <td>0.363967</td>\n",
       "      <td>0.869798</td>\n",
       "      <td>0.198026</td>\n",
       "      <td>0.936667</td>\n",
       "    </tr>\n",
       "    <tr>\n",
       "      <th>...</th>\n",
       "      <td>...</td>\n",
       "      <td>...</td>\n",
       "      <td>...</td>\n",
       "      <td>...</td>\n",
       "    </tr>\n",
       "    <tr>\n",
       "      <th>295</th>\n",
       "      <td>0.192134</td>\n",
       "      <td>0.927980</td>\n",
       "      <td>0.118487</td>\n",
       "      <td>0.950000</td>\n",
       "    </tr>\n",
       "    <tr>\n",
       "      <th>296</th>\n",
       "      <td>0.191265</td>\n",
       "      <td>0.928990</td>\n",
       "      <td>0.125276</td>\n",
       "      <td>0.946667</td>\n",
       "    </tr>\n",
       "    <tr>\n",
       "      <th>297</th>\n",
       "      <td>0.190456</td>\n",
       "      <td>0.929596</td>\n",
       "      <td>0.120561</td>\n",
       "      <td>0.943333</td>\n",
       "    </tr>\n",
       "    <tr>\n",
       "      <th>298</th>\n",
       "      <td>0.191663</td>\n",
       "      <td>0.927980</td>\n",
       "      <td>0.123190</td>\n",
       "      <td>0.950000</td>\n",
       "    </tr>\n",
       "    <tr>\n",
       "      <th>299</th>\n",
       "      <td>0.191489</td>\n",
       "      <td>0.929495</td>\n",
       "      <td>0.117130</td>\n",
       "      <td>0.950000</td>\n",
       "    </tr>\n",
       "  </tbody>\n",
       "</table>\n",
       "<p>300 rows × 4 columns</p>\n",
       "</div>"
      ],
      "text/plain": [
       "         loss  accuracy  val_loss  val_accuracy\n",
       "0    0.654132  0.746364  0.273182      0.910000\n",
       "1    0.437393  0.838081  0.240130      0.933333\n",
       "2    0.398820  0.857273  0.222935      0.930000\n",
       "3    0.378134  0.864848  0.202119      0.936667\n",
       "4    0.363967  0.869798  0.198026      0.936667\n",
       "..        ...       ...       ...           ...\n",
       "295  0.192134  0.927980  0.118487      0.950000\n",
       "296  0.191265  0.928990  0.125276      0.946667\n",
       "297  0.190456  0.929596  0.120561      0.943333\n",
       "298  0.191663  0.927980  0.123190      0.950000\n",
       "299  0.191489  0.929495  0.117130      0.950000\n",
       "\n",
       "[300 rows x 4 columns]"
      ]
     },
     "execution_count": 4,
     "metadata": {},
     "output_type": "execute_result"
    }
   ],
   "source": [
    "history"
   ]
  },
  {
   "cell_type": "code",
   "execution_count": 6,
   "id": "28d7f6e4",
   "metadata": {},
   "outputs": [
    {
     "data": {
      "image/png": "[encoded data removed]",
      "text/plain": [
       "<Figure size 800x400 with 2 Axes>"
      ]
     },
     "metadata": {},
     "output_type": "display_data"
    }
   ],
   "source": [
    "acc = history['accuracy']\n",
    "val_acc = history['val_accuracy']\n",
    "\n",
    "loss = history['loss']\n",
    "val_loss = history['val_loss']\n",
    "\n",
    "epochs_range = range(300)\n",
    "\n",
    "plt.figure(figsize=(8, 4))\n",
    "plt.subplot(1, 2, 1)\n",
    "plt.plot(epochs_range, acc, label='Training Accuracy')\n",
    "plt.plot(epochs_range, val_acc, label='Validation Accuracy')\n",
    "plt.legend(loc='lower right')\n",
    "plt.title('Training and Validation Accuracy')\n",
    "\n",
    "plt.subplot(1, 2, 2)\n",
    "plt.plot(epochs_range, loss, label='Training Loss')\n",
    "plt.plot(epochs_range, val_loss, label='Validation Loss')\n",
    "plt.legend(loc='upper right')\n",
    "plt.title('Training and Validation Loss')\n",
    "plt.show()"
   ]
  },
  {
   "cell_type": "code",
   "execution_count": null,
   "id": "8cb63273",
   "metadata": {},
   "outputs": [],
   "source": []
  }
 ],
 "metadata": {
  "kernelspec": {
   "display_name": "project",
   "language": "python",
   "name": "project"
  },
  "language_info": {
   "codemirror_mode": {
    "name": "ipython",
    "version": 3
   },
   "file_extension": ".py",
   "mimetype": "text/x-python",
   "name": "python",
   "nbconvert_exporter": "python",
   "pygments_lexer": "ipython3",
   "version": "3.10.6"
  }
 },
 "nbformat": 4,
 "nbformat_minor": 5
}
