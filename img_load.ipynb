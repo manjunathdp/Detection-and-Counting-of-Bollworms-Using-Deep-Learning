{
 "cells": [
  {
   "cell_type": "code",
   "execution_count": 1,
   "id": "39b5057f",
   "metadata": {},
   "outputs": [],
   "source": [
    "from tqdm import tqdm\n",
    "from numpy import asarray\n",
    "import tensorflow as tf\n",
    "import keras\n",
    "from tensorflow.keras.applications.resnet50 import ResNet50, preprocess_input\n",
    "from tensorflow.keras.applications.resnet50 import ResNet50\n",
    "\n",
    "#from keras.applications.resnet import ResNet50\n",
    "#from keras.applications.resnet import ResNet50\n",
    "from tensorflow.keras.applications.resnet import decode_predictions\n",
    "from tensorflow.keras.applications.resnet import preprocess_input\n",
    "from tensorflow.keras.models import Model,Sequential\n",
    "from tensorflow.keras.layers import Input,UpSampling2D,Flatten,BatchNormalization,Dense,Dropout,GlobalAveragePooling2D\n",
    "from tensorflow.keras import optimizers\n",
    "import tensorflow as tf\n",
    "import numpy as np\n",
    "import matplotlib.pyplot as plt\n",
    "import time\n",
    "from keras.preprocessing import image\n",
    "from keras.preprocessing.image import ImageDataGenerator\n",
    "from glob import glob\n",
    "from PIL import Image\n",
    "import pandas as pd\n",
    "import os\n",
    "import cv2\n"
   ]
  },
  {
   "cell_type": "code",
   "execution_count": null,
   "id": "8ec900fa",
   "metadata": {},
   "outputs": [],
   "source": []
  },
  {
   "cell_type": "code",
   "execution_count": null,
   "id": "96ca2ef5",
   "metadata": {},
   "outputs": [],
   "source": []
  },
  {
   "cell_type": "code",
   "execution_count": null,
   "id": "5a81a8f6",
   "metadata": {},
   "outputs": [],
   "source": []
  },
  {
   "cell_type": "code",
   "execution_count": 2,
   "id": "f8d80306",
   "metadata": {},
   "outputs": [],
   "source": [
    "neg = pd.read_csv('neg.csv')  "
   ]
  },
  {
   "cell_type": "code",
   "execution_count": 3,
   "id": "5420b36a",
   "metadata": {},
   "outputs": [
    {
     "data": {
      "text/html": [
       "<div>\n",
       "<style scoped>\n",
       "    .dataframe tbody tr th:only-of-type {\n",
       "        vertical-align: middle;\n",
       "    }\n",
       "\n",
       "    .dataframe tbody tr th {\n",
       "        vertical-align: top;\n",
       "    }\n",
       "\n",
       "    .dataframe thead th {\n",
       "        text-align: right;\n",
       "    }\n",
       "</style>\n",
       "<table border=\"1\" class=\"dataframe\">\n",
       "  <thead>\n",
       "    <tr style=\"text-align: right;\">\n",
       "      <th></th>\n",
       "      <th>image_id_worm</th>\n",
       "      <th>worm_type</th>\n",
       "      <th>number_of_worms</th>\n",
       "    </tr>\n",
       "  </thead>\n",
       "  <tbody>\n",
       "    <tr>\n",
       "      <th>0</th>\n",
       "      <td>id_00084298dd030a500033ff78.jpg</td>\n",
       "      <td>-ve</td>\n",
       "      <td>0</td>\n",
       "    </tr>\n",
       "    <tr>\n",
       "      <th>1</th>\n",
       "      <td>id_000c2040da4b05816cefbb96.jpg</td>\n",
       "      <td>-ve</td>\n",
       "      <td>0</td>\n",
       "    </tr>\n",
       "    <tr>\n",
       "      <th>2</th>\n",
       "      <td>id_001e574d805941d7f2cb0302.jpg</td>\n",
       "      <td>-ve</td>\n",
       "      <td>0</td>\n",
       "    </tr>\n",
       "    <tr>\n",
       "      <th>3</th>\n",
       "      <td>id_001f4346191855c521871616.jpg</td>\n",
       "      <td>-ve</td>\n",
       "      <td>0</td>\n",
       "    </tr>\n",
       "    <tr>\n",
       "      <th>4</th>\n",
       "      <td>id_002087d55e497d26352496a4.jpg</td>\n",
       "      <td>-ve</td>\n",
       "      <td>0</td>\n",
       "    </tr>\n",
       "  </tbody>\n",
       "</table>\n",
       "</div>"
      ],
      "text/plain": [
       "                     image_id_worm worm_type  number_of_worms\n",
       "0  id_00084298dd030a500033ff78.jpg       -ve                0\n",
       "1  id_000c2040da4b05816cefbb96.jpg       -ve                0\n",
       "2  id_001e574d805941d7f2cb0302.jpg       -ve                0\n",
       "3  id_001f4346191855c521871616.jpg       -ve                0\n",
       "4  id_002087d55e497d26352496a4.jpg       -ve                0"
      ]
     },
     "execution_count": 3,
     "metadata": {},
     "output_type": "execute_result"
    }
   ],
   "source": [
    "neg.head()"
   ]
  },
  {
   "cell_type": "code",
   "execution_count": 4,
   "id": "f5892b8b",
   "metadata": {},
   "outputs": [],
   "source": [
    "path = \"C:/Users/manju/Desktop/ml-project/train_A/neg\""
   ]
  },
  {
   "cell_type": "code",
   "execution_count": 5,
   "id": "9490ca17",
   "metadata": {},
   "outputs": [
    {
     "name": "stderr",
     "output_type": "stream",
     "text": [
      "100%|██████████████████████████████████████████████████████████████████████████████| 3258/3258 [15:17<00:00,  3.55it/s]\n"
     ]
    }
   ],
   "source": [
    "for i in tqdm(range(neg.shape[0])):\n",
    "    img = cv2.imread('images/'+neg['image_id_worm'][i])\n",
    "    res = cv2.resize(img, dsize=(400,400))#, interpolation=cv2.INTER_CUBIC)\n",
    "    #img = tf.keras.utils.load_img('images/'+test['image_id_worm'][i],target_size=None,color_mode='rgb')\n",
    "    #cv2.imwrite(train['image_id_worm'][i] , img )\n",
    "    img =asarray(res)\n",
    "    #cv2.imwrite(train['image_id_worm'][i] , img )\n",
    "    cv2.imwrite(os.path.join(path ,neg['image_id_worm'][i] ), img)"
   ]
  },
  {
   "cell_type": "code",
   "execution_count": null,
   "id": "54b36c00",
   "metadata": {},
   "outputs": [],
   "source": []
  }
 ],
 "metadata": {
  "kernelspec": {
   "display_name": "project",
   "language": "python",
   "name": "project"
  },
  "language_info": {
   "codemirror_mode": {
    "name": "ipython",
    "version": 3
   },
   "file_extension": ".py",
   "mimetype": "text/x-python",
   "name": "python",
   "nbconvert_exporter": "python",
   "pygments_lexer": "ipython3",
   "version": "3.10.6"
  }
 },
 "nbformat": 4,
 "nbformat_minor": 5
}
