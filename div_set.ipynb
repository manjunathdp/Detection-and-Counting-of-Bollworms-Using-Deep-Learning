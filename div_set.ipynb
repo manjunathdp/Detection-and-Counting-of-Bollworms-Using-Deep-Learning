{
 "cells": [
  {
   "cell_type": "code",
   "execution_count": null,
   "id": "d59e0131",
   "metadata": {},
   "outputs": [],
   "source": [
    "from __future__ import print_function\n",
    "import pandas as pd\n",
    "import shutil\n",
    "import os\n",
    "import sys\n",
    "\n",
    "labels = pd.read_csv(r'D:\\4 th semester\\Projects\\DSP\\train.zip.001\\editedtrainLabels.csv')\n",
    "\n",
    "train_dir =r'D:\\4 th semester\\Projects\\DSP\\train.zip.001\\train'\n",
    "DR = r\"D:\\4 th semester\\Projects\\DSP\\train.zip.001\\DR\"\n",
    "if not os.path.exists(DR):\n",
    "    os.mkdir(DR)\n",
    "\n",
    "for filename, class_name in labels.values:\n",
    "    # Create subdirectory with `class_name`\n",
    "    if not os.path.exists(DR + str(class_name)):\n",
    "        os.mkdir(DR + str(class_name))\n",
    "    src_path = train_dir + '/'+ filename + '.jpeg'\n",
    "    dst_path = DR + str(class_name) + '/' + filename + '.jpeg'\n",
    "    try:\n",
    "        shutil.copy(src_path, dst_path)\n",
    "        print(\"sucessful\")\n",
    "    except IOError as e:\n",
    "        print('Unable to copy file {} to {}'\n",
    "              .format(src_path, dst_path))\n",
    "    except:\n",
    "        print('When try copy file {} to {}, unexpected error: {}'\n",
    "              .format(src_path, dst_path, sys.exc_info()))"
   ]
  }
 ],
 "metadata": {
  "kernelspec": {
   "display_name": "ml-project",
   "language": "python",
   "name": "ml-project"
  },
  "language_info": {
   "codemirror_mode": {
    "name": "ipython",
    "version": 3
   },
   "file_extension": ".py",
   "mimetype": "text/x-python",
   "name": "python",
   "nbconvert_exporter": "python",
   "pygments_lexer": "ipython3",
   "version": "3.10.6"
  }
 },
 "nbformat": 4,
 "nbformat_minor": 5
}
