{
 "cells": [
  {
   "cell_type": "code",
   "execution_count": 65,
   "id": "fc16b745",
   "metadata": {},
   "outputs": [],
   "source": [
    "import pandas as pd\n",
    "import cv2"
   ]
  },
  {
   "cell_type": "code",
   "execution_count": 3,
   "id": "72fc74e3",
   "metadata": {},
   "outputs": [],
   "source": [
    "data = pd.read_csv(\"C:\\\\Users\\\\manju\\\\Desktop\\\\ml-project\\\\dataset\\\\Train.csv\")"
   ]
  },
  {
   "cell_type": "code",
   "execution_count": 4,
   "id": "6529c9a2",
   "metadata": {},
   "outputs": [
    {
     "data": {
      "text/html": [
       "<div>\n",
       "<style scoped>\n",
       "    .dataframe tbody tr th:only-of-type {\n",
       "        vertical-align: middle;\n",
       "    }\n",
       "\n",
       "    .dataframe tbody tr th {\n",
       "        vertical-align: top;\n",
       "    }\n",
       "\n",
       "    .dataframe thead th {\n",
       "        text-align: right;\n",
       "    }\n",
       "</style>\n",
       "<table border=\"1\" class=\"dataframe\">\n",
       "  <thead>\n",
       "    <tr style=\"text-align: right;\">\n",
       "      <th></th>\n",
       "      <th>image_id_worm</th>\n",
       "      <th>worm_type</th>\n",
       "      <th>number_of_worms</th>\n",
       "    </tr>\n",
       "  </thead>\n",
       "  <tbody>\n",
       "    <tr>\n",
       "      <th>0</th>\n",
       "      <td>id_0002ea6f15c7fa6f4c221783.jpg</td>\n",
       "      <td>pbw</td>\n",
       "      <td>51</td>\n",
       "    </tr>\n",
       "    <tr>\n",
       "      <th>1</th>\n",
       "      <td>id_0005ef295aafe6acc63587db.jpg</td>\n",
       "      <td>pbw</td>\n",
       "      <td>8</td>\n",
       "    </tr>\n",
       "    <tr>\n",
       "      <th>2</th>\n",
       "      <td>id_00084298dd030a500033ff78.jpg</td>\n",
       "      <td>NaN</td>\n",
       "      <td>0</td>\n",
       "    </tr>\n",
       "    <tr>\n",
       "      <th>3</th>\n",
       "      <td>id_00093f2c76f6488737325859.jpg</td>\n",
       "      <td>pbw</td>\n",
       "      <td>12</td>\n",
       "    </tr>\n",
       "    <tr>\n",
       "      <th>4</th>\n",
       "      <td>id_000b2e6c437c643f25d4a6c3.jpg</td>\n",
       "      <td>pbw</td>\n",
       "      <td>87</td>\n",
       "    </tr>\n",
       "  </tbody>\n",
       "</table>\n",
       "</div>"
      ],
      "text/plain": [
       "                     image_id_worm worm_type  number_of_worms\n",
       "0  id_0002ea6f15c7fa6f4c221783.jpg       pbw               51\n",
       "1  id_0005ef295aafe6acc63587db.jpg       pbw                8\n",
       "2  id_00084298dd030a500033ff78.jpg       NaN                0\n",
       "3  id_00093f2c76f6488737325859.jpg       pbw               12\n",
       "4  id_000b2e6c437c643f25d4a6c3.jpg       pbw               87"
      ]
     },
     "execution_count": 4,
     "metadata": {},
     "output_type": "execute_result"
    }
   ],
   "source": [
    "data.head()"
   ]
  },
  {
   "cell_type": "code",
   "execution_count": 6,
   "id": "91a3d3ea",
   "metadata": {},
   "outputs": [],
   "source": [
    "data2 = pd.read_csv(\"C:\\\\Users\\\\manju\\\\Desktop\\\\ml-project\\\\dataset\\\\images_bboxes.csv\")"
   ]
  },
  {
   "cell_type": "code",
   "execution_count": 7,
   "id": "b5efcd49",
   "metadata": {},
   "outputs": [
    {
     "data": {
      "text/html": [
       "<div>\n",
       "<style scoped>\n",
       "    .dataframe tbody tr th:only-of-type {\n",
       "        vertical-align: middle;\n",
       "    }\n",
       "\n",
       "    .dataframe tbody tr th {\n",
       "        vertical-align: top;\n",
       "    }\n",
       "\n",
       "    .dataframe thead th {\n",
       "        text-align: right;\n",
       "    }\n",
       "</style>\n",
       "<table border=\"1\" class=\"dataframe\">\n",
       "  <thead>\n",
       "    <tr style=\"text-align: right;\">\n",
       "      <th></th>\n",
       "      <th>image_id</th>\n",
       "      <th>worm_type</th>\n",
       "      <th>geometry</th>\n",
       "    </tr>\n",
       "  </thead>\n",
       "  <tbody>\n",
       "    <tr>\n",
       "      <th>0</th>\n",
       "      <td>id_8ada71185e18dc8838b4925b.jpg</td>\n",
       "      <td>pbw</td>\n",
       "      <td>POLYGON ((2478.89 156.77, 2478.89 297.86, 2377...</td>\n",
       "    </tr>\n",
       "    <tr>\n",
       "      <th>1</th>\n",
       "      <td>id_8ada71185e18dc8838b4925b.jpg</td>\n",
       "      <td>pbw</td>\n",
       "      <td>POLYGON ((939.8199999999999 1221.46, 939.81999...</td>\n",
       "    </tr>\n",
       "    <tr>\n",
       "      <th>2</th>\n",
       "      <td>id_8ada71185e18dc8838b4925b.jpg</td>\n",
       "      <td>abw</td>\n",
       "      <td>POLYGON ((1559.7 1558.06, 1559.7 1966.3, 1129....</td>\n",
       "    </tr>\n",
       "    <tr>\n",
       "      <th>3</th>\n",
       "      <td>id_bc86d3cfd0c0463fa5cae33e.jpg</td>\n",
       "      <td>abw</td>\n",
       "      <td>POLYGON ((2090.216399557101 1537.2100674812148...</td>\n",
       "    </tr>\n",
       "    <tr>\n",
       "      <th>4</th>\n",
       "      <td>id_bc86d3cfd0c0463fa5cae33e.jpg</td>\n",
       "      <td>abw</td>\n",
       "      <td>POLYGON ((2342.2568587778546 1676.304250464547...</td>\n",
       "    </tr>\n",
       "  </tbody>\n",
       "</table>\n",
       "</div>"
      ],
      "text/plain": [
       "                          image_id worm_type  \\\n",
       "0  id_8ada71185e18dc8838b4925b.jpg       pbw   \n",
       "1  id_8ada71185e18dc8838b4925b.jpg       pbw   \n",
       "2  id_8ada71185e18dc8838b4925b.jpg       abw   \n",
       "3  id_bc86d3cfd0c0463fa5cae33e.jpg       abw   \n",
       "4  id_bc86d3cfd0c0463fa5cae33e.jpg       abw   \n",
       "\n",
       "                                            geometry  \n",
       "0  POLYGON ((2478.89 156.77, 2478.89 297.86, 2377...  \n",
       "1  POLYGON ((939.8199999999999 1221.46, 939.81999...  \n",
       "2  POLYGON ((1559.7 1558.06, 1559.7 1966.3, 1129....  \n",
       "3  POLYGON ((2090.216399557101 1537.2100674812148...  \n",
       "4  POLYGON ((2342.2568587778546 1676.304250464547...  "
      ]
     },
     "execution_count": 7,
     "metadata": {},
     "output_type": "execute_result"
    }
   ],
   "source": [
    "data2.head()"
   ]
  },
  {
   "cell_type": "code",
   "execution_count": 53,
   "id": "5d40fc05",
   "metadata": {},
   "outputs": [
    {
     "ename": "ValueError",
     "evalue": "invalid literal for int() with base 10: '('",
     "output_type": "error",
     "traceback": [
      "\u001b[1;31m---------------------------------------------------------------------------\u001b[0m",
      "\u001b[1;31mValueError\u001b[0m                                Traceback (most recent call last)",
      "Input \u001b[1;32mIn [53]\u001b[0m, in \u001b[0;36m<cell line: 1>\u001b[1;34m()\u001b[0m\n\u001b[1;32m----> 1\u001b[0m res \u001b[38;5;241m=\u001b[39m \u001b[38;5;28;43mtuple\u001b[39;49m\u001b[43m(\u001b[49m\u001b[38;5;28;43mmap\u001b[39;49m\u001b[43m(\u001b[49m\u001b[38;5;28;43mint\u001b[39;49m\u001b[43m,\u001b[49m\u001b[43mprocess_polygon\u001b[49m\u001b[43m(\u001b[49m\u001b[43mdata2\u001b[49m\u001b[38;5;241;43m.\u001b[39;49m\u001b[43mgeometry\u001b[49m\u001b[43m[\u001b[49m\u001b[38;5;241;43m10\u001b[39;49m\u001b[43m]\u001b[49m\u001b[43m)\u001b[49m\u001b[43m)\u001b[49m\u001b[43m)\u001b[49m\n",
      "\u001b[1;31mValueError\u001b[0m: invalid literal for int() with base 10: '('"
     ]
    }
   ],
   "source": [
    "res = tuple(map(process_polygon(data2.geometry[10]"
   ]
  },
  {
   "cell_type": "code",
   "execution_count": 54,
   "id": "7dd06d93",
   "metadata": {},
   "outputs": [
    {
     "data": {
      "text/plain": [
       "'((370.96,529.43),(370.96,559.62),(349.75,559.62),(349.75,529.43),(370.96,529.43))'"
      ]
     },
     "execution_count": 54,
     "metadata": {},
     "output_type": "execute_result"
    }
   ],
   "source": [
    "process_polygon(data2.geometry[10])"
   ]
  },
  {
   "cell_type": "code",
   "execution_count": 41,
   "id": "96b26e20",
   "metadata": {},
   "outputs": [],
   "source": [
    "def process_polygon(poly):  \n",
    "    return poly[8:].replace(' ',',').replace(',,','),(')"
   ]
  },
  {
   "cell_type": "code",
   "execution_count": 60,
   "id": "65973d81",
   "metadata": {},
   "outputs": [],
   "source": [
    "import PIL.ImageDraw as ImageDraw\n",
    "import PIL.Image as Image\n",
    "\n",
    "image = Image.new(\"RGB\", (5000, 5000))\n",
    "\n",
    "draw = ImageDraw.Draw(image)\n",
    "\n",
    "# points = ((1,1), (2,1), (2,2), (1,2), (0.5,1.5))\n",
    "# points = ((100, 100), (200, 100), (200, 200), (100, 200), (50, 150))?\n",
    "points =((2478.89,156.77),(2478.89,297.86),(2377.97,297.86),(2377.97,156.77),(2478.89,156.77))\n",
    "draw.polygon((bbox.bounds), fill=200)\n",
    "\n",
    "image.show()"
   ]
  },
  {
   "cell_type": "code",
   "execution_count": null,
   "id": "d97c40dc",
   "metadata": {},
   "outputs": [],
   "source": [
    "procr,ejkberibbbgbbbriuehig9gp34jess_polygon"
   ]
  },
  {
   "cell_type": "code",
   "execution_count": 56,
   "id": "207811bb",
   "metadata": {},
   "outputs": [
    {
     "name": "stdout",
     "output_type": "stream",
     "text": [
      "Note: you may need to restart the kernel to use updated packages.Collecting shapely\n",
      "  Downloading Shapely-1.8.5.post1-cp310-cp310-win_amd64.whl (1.3 MB)\n",
      "     ---------------------------------------- 1.3/1.3 MB 2.0 MB/s eta 0:00:00\n",
      "Installing collected packages: shapely\n",
      "Successfully installed shapely-1.8.5.post1\n",
      "\n"
     ]
    },
    {
     "name": "stderr",
     "output_type": "stream",
     "text": [
      "WARNING: Ignoring invalid distribution -ensorflow-gpu (d:\\installedsoftwares\\anaconda\\envs\\ml-project\\lib\\site-packages)\n",
      "WARNING: Ignoring invalid distribution -ensorflow-gpu (d:\\installedsoftwares\\anaconda\\envs\\ml-project\\lib\\site-packages)\n",
      "WARNING: Ignoring invalid distribution -ensorflow-gpu (d:\\installedsoftwares\\anaconda\\envs\\ml-project\\lib\\site-packages)\n",
      "WARNING: Ignoring invalid distribution -ensorflow-gpu (d:\\installedsoftwares\\anaconda\\envs\\ml-project\\lib\\site-packages)\n",
      "WARNING: Ignoring invalid distribution -ensorflow-gpu (d:\\installedsoftwares\\anaconda\\envs\\ml-project\\lib\\site-packages)\n",
      "WARNING: Ignoring invalid distribution -ensorflow-gpu (d:\\installedsoftwares\\anaconda\\envs\\ml-project\\lib\\site-packages)\n",
      "WARNING: Ignoring invalid distribution -ensorflow-gpu (d:\\installedsoftwares\\anaconda\\envs\\ml-project\\lib\\site-packages)\n"
     ]
    }
   ],
   "source": [
    "pip install shapely"
   ]
  },
  {
   "cell_type": "code",
   "execution_count": 63,
   "id": "8ccfb683",
   "metadata": {},
   "outputs": [
    {
     "name": "stdout",
     "output_type": "stream",
     "text": [
      "(349.75, 529.43, 370.96, 559.62)\n"
     ]
    }
   ],
   "source": [
    "from shapely.wkt import loads\n",
    "wkt_string = data2.geometry[10]\n",
    "bbox = loads(wkt_string)\n",
    "print(bbox.bounds)"
   ]
  },
  {
   "cell_type": "code",
   "execution_count": 68,
   "id": "e6313e86",
   "metadata": {},
   "outputs": [
    {
     "ename": "error",
     "evalue": "OpenCV(4.6.0) :-1: error: (-5:Bad argument) in function 'rectangle'\n> Overload resolution failed:\n>  - img is not a numpy array, neither a scalar\n>  - Expected Ptr<cv::UMat> for argument 'img'\n>  - img is not a numpy array, neither a scalar\n>  - Expected Ptr<cv::UMat> for argument 'img'\n",
     "output_type": "error",
     "traceback": [
      "\u001b[1;31m---------------------------------------------------------------------------\u001b[0m",
      "\u001b[1;31merror\u001b[0m                                     Traceback (most recent call last)",
      "Input \u001b[1;32mIn [68]\u001b[0m, in \u001b[0;36m<cell line: 1>\u001b[1;34m()\u001b[0m\n\u001b[1;32m----> 1\u001b[0m \u001b[43mcv2\u001b[49m\u001b[38;5;241;43m.\u001b[39;49m\u001b[43mrectangle\u001b[49m\u001b[43m(\u001b[49m\u001b[43mimage\u001b[49m\u001b[43m,\u001b[49m\u001b[43m \u001b[49m\u001b[43m(\u001b[49m\u001b[43mbbox\u001b[49m\u001b[38;5;241;43m.\u001b[39;49m\u001b[43mbounds\u001b[49m\u001b[43m[\u001b[49m\u001b[38;5;241;43m0\u001b[39;49m\u001b[43m]\u001b[49m\u001b[43m,\u001b[49m\u001b[43m \u001b[49m\u001b[43mbbox\u001b[49m\u001b[38;5;241;43m.\u001b[39;49m\u001b[43mbounds\u001b[49m\u001b[43m[\u001b[49m\u001b[38;5;241;43m2\u001b[39;49m\u001b[43m]\u001b[49m\u001b[43m)\u001b[49m\u001b[43m,\u001b[49m\u001b[43m \u001b[49m\u001b[43m(\u001b[49m\u001b[43mbbox\u001b[49m\u001b[38;5;241;43m.\u001b[39;49m\u001b[43mbounds\u001b[49m\u001b[43m[\u001b[49m\u001b[38;5;241;43m0\u001b[39;49m\u001b[43m]\u001b[49m\u001b[43m \u001b[49m\u001b[38;5;241;43m+\u001b[39;49m\u001b[43m \u001b[49m\u001b[43mbbox\u001b[49m\u001b[38;5;241;43m.\u001b[39;49m\u001b[43mbounds\u001b[49m\u001b[43m[\u001b[49m\u001b[38;5;241;43m1\u001b[39;49m\u001b[43m]\u001b[49m\u001b[43m \u001b[49m\u001b[43m,\u001b[49m\u001b[43m \u001b[49m\u001b[43mbbox\u001b[49m\u001b[38;5;241;43m.\u001b[39;49m\u001b[43mbounds\u001b[49m\u001b[43m[\u001b[49m\u001b[38;5;241;43m2\u001b[39;49m\u001b[43m]\u001b[49m\u001b[43m  \u001b[49m\u001b[38;5;241;43m+\u001b[39;49m\u001b[43m \u001b[49m\u001b[43mbbox\u001b[49m\u001b[38;5;241;43m.\u001b[39;49m\u001b[43mbounds\u001b[49m\u001b[43m[\u001b[49m\u001b[38;5;241;43m3\u001b[39;49m\u001b[43m]\u001b[49m\u001b[43m \u001b[49m\u001b[43m)\u001b[49m\u001b[43m,\u001b[49m\u001b[43m \u001b[49m\u001b[43m(\u001b[49m\u001b[38;5;241;43m255\u001b[39;49m\u001b[43m,\u001b[49m\u001b[38;5;241;43m0\u001b[39;49m\u001b[43m,\u001b[49m\u001b[38;5;241;43m0\u001b[39;49m\u001b[43m)\u001b[49m\u001b[43m,\u001b[49m\u001b[43m \u001b[49m\u001b[38;5;241;43m4\u001b[39;49m\u001b[43m)\u001b[49m\n",
      "\u001b[1;31merror\u001b[0m: OpenCV(4.6.0) :-1: error: (-5:Bad argument) in function 'rectangle'\n> Overload resolution failed:\n>  - img is not a numpy array, neither a scalar\n>  - Expected Ptr<cv::UMat> for argument 'img'\n>  - img is not a numpy array, neither a scalar\n>  - Expected Ptr<cv::UMat> for argument 'img'\n"
     ]
    }
   ],
   "source": [
    "cv2.rectangle(image, (bbox.bounds[0], bbox.bounds[2]), (bbox.bounds[0] + bbox.bounds[1] , bbox.bounds[2]  + bbox.bounds[3] ), (255,0,0), 4)"
   ]
  },
  {
   "cell_type": "code",
   "execution_count": 70,
   "id": "1dd6eb7e",
   "metadata": {},
   "outputs": [
    {
     "ename": "AttributeError",
     "evalue": "'tuple' object has no attribute 'x'",
     "output_type": "error",
     "traceback": [
      "\u001b[1;31m---------------------------------------------------------------------------\u001b[0m",
      "\u001b[1;31mAttributeError\u001b[0m                            Traceback (most recent call last)",
      "Input \u001b[1;32mIn [70]\u001b[0m, in \u001b[0;36m<cell line: 1>\u001b[1;34m()\u001b[0m\n\u001b[1;32m----> 1\u001b[0m \u001b[43mbbox\u001b[49m\u001b[38;5;241;43m.\u001b[39;49m\u001b[43mbounds\u001b[49m\u001b[38;5;241;43m.\u001b[39;49m\u001b[43mx\u001b[49m\n",
      "\u001b[1;31mAttributeError\u001b[0m: 'tuple' object has no attribute 'x'"
     ]
    }
   ],
   "source": [
    "bbox.bounds."
   ]
  },
  {
   "cell_type": "code",
   "execution_count": null,
   "id": "9f3a0884",
   "metadata": {},
   "outputs": [],
   "source": [
    "def draw_prediction(img_url, pred_bb, gt_bb):\n",
    "    img_path = os.path.join('imgs', img_url.split('/')[-1])\n",
    "    img = cv2.imread(img_path)\n",
    "    \n",
    "    result = img.copy()\n",
    "    cv2.rectangle(result, (gt_bb['x1'], gt_bb['y1']), (gt_bb['x2'], gt_bb['y2']), (0, 255, 0), 5)\n",
    "    cv2.rectangle(result, (pred_bb['x1'], pred_bb['y1']), (pred_bb['x2'], pred_bb['y2']), (255, 0, 0), 5)\n",
    "    plt.figure(figsize=(12, 8))\n",
    "    plt.imshow(cv2.cvtColor(result, cv2.COLOR_BGR2RGB))\n",
    "    plt.show()"
   ]
  },
  {
   "cell_type": "code",
   "execution_count": 74,
   "id": "3de24950",
   "metadata": {},
   "outputs": [
    {
     "name": "stdout",
     "output_type": "stream",
     "text": [
      "Collecting figures\n",
      "  Downloading Figures-0.4.4-py3-none-any.whl (6.1 MB)\n",
      "     ---------------------------------------- 6.1/6.1 MB 361.7 kB/s eta 0:00:00\n",
      "Collecting sqlparse>=0.2.2\n",
      "  Downloading sqlparse-0.4.3-py3-none-any.whl (42 kB)\n",
      "     -------------------------------------- 42.8/42.8 kB 295.7 kB/s eta 0:00:00\n",
      "Installing collected packages: sqlparse, figures\n",
      "Successfully installed figures-0.4.4 sqlparse-0.4.3\n",
      "Note: you may need to restart the kernel to use updated packages.\n"
     ]
    },
    {
     "name": "stderr",
     "output_type": "stream",
     "text": [
      "WARNING: Ignoring invalid distribution -ensorflow-gpu (d:\\installedsoftwares\\anaconda\\envs\\ml-project\\lib\\site-packages)\n",
      "WARNING: Ignoring invalid distribution -ensorflow-gpu (d:\\installedsoftwares\\anaconda\\envs\\ml-project\\lib\\site-packages)\n",
      "WARNING: Ignoring invalid distribution -ensorflow-gpu (d:\\installedsoftwares\\anaconda\\envs\\ml-project\\lib\\site-packages)\n",
      "WARNING: Ignoring invalid distribution -ensorflow-gpu (d:\\installedsoftwares\\anaconda\\envs\\ml-project\\lib\\site-packages)\n",
      "WARNING: Ignoring invalid distribution -ensorflow-gpu (d:\\installedsoftwares\\anaconda\\envs\\ml-project\\lib\\site-packages)\n",
      "WARNING: Ignoring invalid distribution -ensorflow-gpu (d:\\installedsoftwares\\anaconda\\envs\\ml-project\\lib\\site-packages)\n",
      "WARNING: Ignoring invalid distribution -ensorflow-gpu (d:\\installedsoftwares\\anaconda\\envs\\ml-project\\lib\\site-packages)\n",
      "WARNING: Ignoring invalid distribution -ensorflow-gpu (d:\\installedsoftwares\\anaconda\\envs\\ml-project\\lib\\site-packages)\n"
     ]
    }
   ],
   "source": [
    "pip install figures"
   ]
  },
  {
   "cell_type": "code",
   "execution_count": 75,
   "id": "5aef295b",
   "metadata": {},
   "outputs": [
    {
     "ename": "ImportError",
     "evalue": "cannot import name 'BLUE' from 'figures' (D:\\InstalledSoftwares\\Anaconda\\envs\\ml-project\\lib\\site-packages\\figures\\__init__.py)",
     "output_type": "error",
     "traceback": [
      "\u001b[1;31m---------------------------------------------------------------------------\u001b[0m",
      "\u001b[1;31mImportError\u001b[0m                               Traceback (most recent call last)",
      "Input \u001b[1;32mIn [75]\u001b[0m, in \u001b[0;36m<cell line: 5>\u001b[1;34m()\u001b[0m\n\u001b[0;32m      2\u001b[0m \u001b[38;5;28;01mfrom\u001b[39;00m \u001b[38;5;21;01mshapely\u001b[39;00m\u001b[38;5;21;01m.\u001b[39;00m\u001b[38;5;21;01mgeometry\u001b[39;00m \u001b[38;5;28;01mimport\u001b[39;00m MultiPolygon\n\u001b[0;32m      3\u001b[0m \u001b[38;5;28;01mfrom\u001b[39;00m \u001b[38;5;21;01mdescartes\u001b[39;00m\u001b[38;5;21;01m.\u001b[39;00m\u001b[38;5;21;01mpatch\u001b[39;00m \u001b[38;5;28;01mimport\u001b[39;00m PolygonPatch\n\u001b[1;32m----> 5\u001b[0m \u001b[38;5;28;01mfrom\u001b[39;00m \u001b[38;5;21;01mfigures\u001b[39;00m \u001b[38;5;28;01mimport\u001b[39;00m BLUE, SIZE, set_limits, plot_coords, color_isvalid\n\u001b[0;32m      7\u001b[0m fig \u001b[38;5;241m=\u001b[39m pyplot\u001b[38;5;241m.\u001b[39mfigure(\u001b[38;5;241m1\u001b[39m, figsize\u001b[38;5;241m=\u001b[39mSIZE, dpi\u001b[38;5;241m=\u001b[39m\u001b[38;5;241m90\u001b[39m)\n\u001b[0;32m      9\u001b[0m \u001b[38;5;66;03m# 1: valid multi-polygon\u001b[39;00m\n",
      "\u001b[1;31mImportError\u001b[0m: cannot import name 'BLUE' from 'figures' (D:\\InstalledSoftwares\\Anaconda\\envs\\ml-project\\lib\\site-packages\\figures\\__init__.py)"
     ]
    }
   ],
   "source": [
    "from matplotlib import pyplot\n",
    "from shapely.geometry import MultiPolygon\n",
    "from descartes.patch import PolygonPatch\n",
    "\n",
    "from figures import BLUE, SIZE, set_limits, plot_coords, color_isvalid\n",
    "    \n",
    "fig = pyplot.figure(1, figsize=SIZE, dpi=90)\n",
    "\n",
    "# 1: valid multi-polygon\n",
    "ax = fig.add_subplot(121)\n",
    "\n",
    "a = [(0, 0), (0, 1), (1, 1), (1, 0), (0, 0)]\n",
    "b = [(1, 1), (1, 2), (2, 2), (2, 1), (1, 1)]\n",
    "\n",
    "multi1 = MultiPolygon([[a, []], [b, []]])\n",
    "\n",
    "for polygon in multi1:\n",
    "    plot_coords(ax, polygon.exterior)\n",
    "    patch = PolygonPatch(polygon, facecolor=color_isvalid(multi1), edgecolor=color_isvalid(multi1, valid=BLUE), alpha=0.5, zorder=2)\n",
    "    ax.add_patch(patch)\n",
    "\n",
    "ax.set_title('a) valid')\n",
    "\n",
    "set_limits(ax, -1, 3, -1, 3)\n",
    "\n",
    "#2: invalid self-touching ring\n",
    "ax = fig.add_subplot(122)\n",
    "\n",
    "c = [(0, 0), (0, 1.5), (1, 1.5), (1, 0), (0, 0)]\n",
    "d = [(1, 0.5), (1, 2), (2, 2), (2, 0.5), (1, 0.5)]\n",
    "\n",
    "multi2 = MultiPolygon([[c, []], [d, []]])\n",
    "\n",
    "for polygon in multi2:\n",
    "    plot_coords(ax, polygon.exterior)\n",
    "    patch = PolygonPatch(polygon, facecolor=color_isvalid(multi2), edgecolor=color_isvalid(multi2, valid=BLUE), alpha=0.5, zorder=2)\n",
    "    ax.add_patch(patch)\n",
    "\n",
    "ax.set_title('b) invalid')\n",
    "\n",
    "set_limits(ax, -1, 3, -1, 3)\n",
    "\n",
    "pyplot.show()\n"
   ]
  },
  {
   "cell_type": "code",
   "execution_count": null,
   "id": "dddc9a33",
   "metadata": {},
   "outputs": [],
   "source": []
  }
 ],
 "metadata": {
  "kernelspec": {
   "display_name": "ml-project",
   "language": "python",
   "name": "ml-project"
  },
  "language_info": {
   "codemirror_mode": {
    "name": "ipython",
    "version": 3
   },
   "file_extension": ".py",
   "mimetype": "text/x-python",
   "name": "python",
   "nbconvert_exporter": "python",
   "pygments_lexer": "ipython3",
   "version": "3.10.6"
  }
 },
 "nbformat": 4,
 "nbformat_minor": 5
}
