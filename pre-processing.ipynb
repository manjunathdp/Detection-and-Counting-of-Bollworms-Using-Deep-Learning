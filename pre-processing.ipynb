{
 "cells": [
  {
   "cell_type": "code",
   "execution_count": null,
   "id": "2511a695",
   "metadata": {},
   "outputs": [],
   "source": [
    "import os\n",
    "import cv2\n",
    "import keras \n",
    "import keras.preprocessing.image\n",
    "from keras.models import Sequential\n",
    "from keras.layers import Dense, Dropout, Flatten\n",
    "from keras.layers import Conv2D, MaxPooling2D\n",
    "from tensorflow.keras.utils import to_categorical\n",
    "#from keras.utils import to_categorical\n",
    "from keras.preprocessing import image\n",
    "import numpy as np\n",
    "import pandas as pd\n",
    "import matplotlib.pyplot as plt\n",
    "from sklearn.model_selection import train_test_split\n",
    "from tqdm import tqdm\n",
    "import tensorflow as tf\n",
    "from numpy import asarray\n",
    "%matplotlib inline"
   ]
  },
  {
   "cell_type": "markdown",
   "id": "f6dc447d",
   "metadata": {},
   "source": []
  },
  {
   "cell_type": "code",
   "execution_count": 5,
   "id": "2e0a20be",
   "metadata": {
    "scrolled": true
   },
   "outputs": [
    {
     "data": {
      "text/plain": [
       "image_id_worm         0\n",
       "worm_type          3258\n",
       "number_of_worms       0\n",
       "dtype: int64"
      ]
     },
     "execution_count": 5,
     "metadata": {},
     "output_type": "execute_result"
    }
   ],
   "source": [
    "train = pd.read_csv('dataset/train.csv')    # reading the csv file\n",
    "train.isnull().sum()     # printing first five rows of the file"
   ]
  },
  {
   "cell_type": "code",
   "execution_count": 8,
   "id": "02de4836",
   "metadata": {},
   "outputs": [
    {
     "data": {
      "text/plain": [
       "image_id_worm      0\n",
       "worm_type          0\n",
       "number_of_worms    0\n",
       "dtype: int64"
      ]
     },
     "execution_count": 8,
     "metadata": {},
     "output_type": "execute_result"
    }
   ],
   "source": [
    "train.isnull().sum()"
   ]
  },
  {
   "cell_type": "code",
   "execution_count": 7,
   "id": "fd57c2b9",
   "metadata": {},
   "outputs": [],
   "source": [
    "train=train.fillna('-ve')"
   ]
  },
  {
   "cell_type": "code",
   "execution_count": null,
   "id": "87ff15c8",
   "metadata": {},
   "outputs": [],
   "source": [
    "train.to_csv('train_nonan.csv')"
   ]
  },
  {
   "cell_type": "code",
   "execution_count": null,
   "id": "519dc9c3",
   "metadata": {},
   "outputs": [],
   "source": [
    "train = pd.read_csv('train_nonan.csv')"
   ]
  },
  {
   "cell_type": "code",
   "execution_count": null,
   "id": "97387acc",
   "metadata": {},
   "outputs": [],
   "source": [
    "#pip install tqdm\n",
    "#pip install tensorflow==2.8"
   ]
  },
  {
   "cell_type": "code",
   "execution_count": null,
   "id": "13f1ac6d",
   "metadata": {},
   "outputs": [],
   "source": []
  },
  {
   "cell_type": "code",
   "execution_count": null,
   "id": "3fcba37a",
   "metadata": {},
   "outputs": [],
   "source": [
    "path = \"C:/Users/manju/Desktop/ml-project/train_A/\"\n",
    "\n",
    "train_image = []\n",
    "for i in tqdm(range(train.shape[0])):\n",
    "    img = image.load_img('images/'+train['image_id_worm'][i],target_size=(400,400),color_mode='rgb')\n",
    "   \n",
    "    img = image.img_to_array(img)\n",
    "    \n",
    "    cv2.imwrite(os.path.join(path ,train['image_id_worm'][i] ), img)\n",
    "   "
   ]
  },
  {
   "cell_type": "code",
   "execution_count": null,
   "id": "0aeee4f2",
   "metadata": {},
   "outputs": [],
   "source": [
    "path = \"C:/Users/manju/Desktop/ml-project/train_1000/\"\n",
    "\n",
    "train_image = []\n",
    "for i in tqdm(range(train.shape[0])):\n",
    "    img = image.load_img('images/'+train['image_id_worm'][i],target_size=(400,400),color_mode='rgb')\n",
    "    \n",
    "    img = image.img_to_array(img)\n",
    "    \n",
    "    cv2.imwrite(os.path.join(path ,train['image_id_worm'][i] ), img)\n",
    "    "
   ]
  },
  {
   "cell_type": "code",
   "execution_count": 6,
   "id": "326a605a",
   "metadata": {},
   "outputs": [],
   "source": [
    "pbw=train.loc[train['worm_type']=='pbw']"
   ]
  },
  {
   "cell_type": "code",
   "execution_count": 7,
   "id": "a46cbbf7",
   "metadata": {},
   "outputs": [
    {
     "data": {
      "text/html": [
       "<div>\n",
       "<style scoped>\n",
       "    .dataframe tbody tr th:only-of-type {\n",
       "        vertical-align: middle;\n",
       "    }\n",
       "\n",
       "    .dataframe tbody tr th {\n",
       "        vertical-align: top;\n",
       "    }\n",
       "\n",
       "    .dataframe thead th {\n",
       "        text-align: right;\n",
       "    }\n",
       "</style>\n",
       "<table border=\"1\" class=\"dataframe\">\n",
       "  <thead>\n",
       "    <tr style=\"text-align: right;\">\n",
       "      <th></th>\n",
       "      <th>Unnamed: 0</th>\n",
       "      <th>image_id_worm</th>\n",
       "      <th>worm_type</th>\n",
       "      <th>number_of_worms</th>\n",
       "    </tr>\n",
       "  </thead>\n",
       "  <tbody>\n",
       "    <tr>\n",
       "      <th>0</th>\n",
       "      <td>0</td>\n",
       "      <td>id_0002ea6f15c7fa6f4c221783.jpg</td>\n",
       "      <td>pbw</td>\n",
       "      <td>51</td>\n",
       "    </tr>\n",
       "    <tr>\n",
       "      <th>1</th>\n",
       "      <td>1</td>\n",
       "      <td>id_0005ef295aafe6acc63587db.jpg</td>\n",
       "      <td>pbw</td>\n",
       "      <td>8</td>\n",
       "    </tr>\n",
       "    <tr>\n",
       "      <th>2</th>\n",
       "      <td>3</td>\n",
       "      <td>id_00093f2c76f6488737325859.jpg</td>\n",
       "      <td>pbw</td>\n",
       "      <td>12</td>\n",
       "    </tr>\n",
       "    <tr>\n",
       "      <th>3</th>\n",
       "      <td>4</td>\n",
       "      <td>id_000b2e6c437c643f25d4a6c3.jpg</td>\n",
       "      <td>pbw</td>\n",
       "      <td>87</td>\n",
       "    </tr>\n",
       "    <tr>\n",
       "      <th>5</th>\n",
       "      <td>10</td>\n",
       "      <td>id_002b8a0e15968eaf2e61f4c7.jpg</td>\n",
       "      <td>pbw</td>\n",
       "      <td>7</td>\n",
       "    </tr>\n",
       "  </tbody>\n",
       "</table>\n",
       "</div>"
      ],
      "text/plain": [
       "   Unnamed: 0                    image_id_worm worm_type  number_of_worms\n",
       "0           0  id_0002ea6f15c7fa6f4c221783.jpg       pbw               51\n",
       "1           1  id_0005ef295aafe6acc63587db.jpg       pbw                8\n",
       "2           3  id_00093f2c76f6488737325859.jpg       pbw               12\n",
       "3           4  id_000b2e6c437c643f25d4a6c3.jpg       pbw               87\n",
       "5          10  id_002b8a0e15968eaf2e61f4c7.jpg       pbw                7"
      ]
     },
     "execution_count": 7,
     "metadata": {},
     "output_type": "execute_result"
    }
   ],
   "source": [
    "pbw.head()"
   ]
  },
  {
   "cell_type": "code",
   "execution_count": null,
   "id": "7d12c96d",
   "metadata": {},
   "outputs": [],
   "source": [
    "pbw.to_csv('pbw.csv')"
   ]
  },
  {
   "cell_type": "code",
   "execution_count": null,
   "id": "b5b55134",
   "metadata": {},
   "outputs": [],
   "source": [
    "pbw = pd.read_csv('pbw.csv')   "
   ]
  },
  {
   "cell_type": "code",
   "execution_count": null,
   "id": "c3c80159",
   "metadata": {},
   "outputs": [],
   "source": [
    "path = \"C:/Users/manju/Desktop/ml-project/pbw/\"\n",
    "\n",
    "for i in tqdm(range(pbw.shape[0])):\n",
    "    img = image.load_img('images/'+pbw['image_id_worm'][i],target_size=(400,400),color_mode='rgb')\n",
    "    \n",
    "    img = image.img_to_array(img)\n",
    "    \n",
    "    cv2.imwrite(os.path.join(path ,pbw['image_id_worm'][i]), img)\n",
    "    "
   ]
  },
  {
   "cell_type": "code",
   "execution_count": null,
   "id": "a8b0b699",
   "metadata": {},
   "outputs": [],
   "source": [
    "abw=train.loc[train['worm_type']=='abw']"
   ]
  },
  {
   "cell_type": "code",
   "execution_count": null,
   "id": "103aa155",
   "metadata": {},
   "outputs": [],
   "source": [
    "abw.head()"
   ]
  },
  {
   "cell_type": "code",
   "execution_count": null,
   "id": "89066157",
   "metadata": {},
   "outputs": [],
   "source": [
    "abw.to_csv('abw.csv')"
   ]
  },
  {
   "cell_type": "code",
   "execution_count": null,
   "id": "25576797",
   "metadata": {},
   "outputs": [],
   "source": [
    "abw = pd.read_csv('abw.csv')  "
   ]
  },
  {
   "cell_type": "code",
   "execution_count": null,
   "id": "17383eff",
   "metadata": {},
   "outputs": [],
   "source": [
    "path = \"C:/Users/manju/Desktop/ml-project/abw/\"\n",
    "\n",
    "train_image = []\n",
    "for i in tqdm(range(abw.shape[0])):\n",
    "    img = image.load_img('images/'+abw['image_id_worm'][i],target_size=(400,400),color_mode='rgb')\n",
    "    \n",
    "    img = image.img_to_array(img)\n",
    "    \n",
    "    cv2.imwrite(os.path.join(path ,abw['image_id_worm'][i] ), img)"
   ]
  },
  {
   "cell_type": "code",
   "execution_count": 9,
   "id": "6e6c5f66",
   "metadata": {},
   "outputs": [],
   "source": [
    "neg=train.loc[train['worm_type']=='-ve']"
   ]
  },
  {
   "cell_type": "code",
   "execution_count": 10,
   "id": "a0eab731",
   "metadata": {},
   "outputs": [
    {
     "data": {
      "text/html": [
       "<div>\n",
       "<style scoped>\n",
       "    .dataframe tbody tr th:only-of-type {\n",
       "        vertical-align: middle;\n",
       "    }\n",
       "\n",
       "    .dataframe tbody tr th {\n",
       "        vertical-align: top;\n",
       "    }\n",
       "\n",
       "    .dataframe thead th {\n",
       "        text-align: right;\n",
       "    }\n",
       "</style>\n",
       "<table border=\"1\" class=\"dataframe\">\n",
       "  <thead>\n",
       "    <tr style=\"text-align: right;\">\n",
       "      <th></th>\n",
       "      <th>image_id_worm</th>\n",
       "      <th>worm_type</th>\n",
       "      <th>number_of_worms</th>\n",
       "    </tr>\n",
       "  </thead>\n",
       "  <tbody>\n",
       "    <tr>\n",
       "      <th>2</th>\n",
       "      <td>id_00084298dd030a500033ff78.jpg</td>\n",
       "      <td>-ve</td>\n",
       "      <td>0</td>\n",
       "    </tr>\n",
       "    <tr>\n",
       "      <th>5</th>\n",
       "      <td>id_000c2040da4b05816cefbb96.jpg</td>\n",
       "      <td>-ve</td>\n",
       "      <td>0</td>\n",
       "    </tr>\n",
       "    <tr>\n",
       "      <th>7</th>\n",
       "      <td>id_001e574d805941d7f2cb0302.jpg</td>\n",
       "      <td>-ve</td>\n",
       "      <td>0</td>\n",
       "    </tr>\n",
       "    <tr>\n",
       "      <th>8</th>\n",
       "      <td>id_001f4346191855c521871616.jpg</td>\n",
       "      <td>-ve</td>\n",
       "      <td>0</td>\n",
       "    </tr>\n",
       "    <tr>\n",
       "      <th>9</th>\n",
       "      <td>id_002087d55e497d26352496a4.jpg</td>\n",
       "      <td>-ve</td>\n",
       "      <td>0</td>\n",
       "    </tr>\n",
       "  </tbody>\n",
       "</table>\n",
       "</div>"
      ],
      "text/plain": [
       "                     image_id_worm worm_type  number_of_worms\n",
       "2  id_00084298dd030a500033ff78.jpg       -ve                0\n",
       "5  id_000c2040da4b05816cefbb96.jpg       -ve                0\n",
       "7  id_001e574d805941d7f2cb0302.jpg       -ve                0\n",
       "8  id_001f4346191855c521871616.jpg       -ve                0\n",
       "9  id_002087d55e497d26352496a4.jpg       -ve                0"
      ]
     },
     "execution_count": 10,
     "metadata": {},
     "output_type": "execute_result"
    }
   ],
   "source": [
    "neg.head()"
   ]
  },
  {
   "cell_type": "code",
   "execution_count": 12,
   "id": "7f465e45",
   "metadata": {},
   "outputs": [],
   "source": [
    "neg.to_csv('neg.csv',index=False)"
   ]
  },
  {
   "cell_type": "code",
   "execution_count": 13,
   "id": "ff11147c",
   "metadata": {},
   "outputs": [],
   "source": [
    "neg = pd.read_csv('neg.csv')  \n"
   ]
  },
  {
   "cell_type": "code",
   "execution_count": 14,
   "id": "f6d4cb2d",
   "metadata": {},
   "outputs": [
    {
     "data": {
      "text/html": [
       "<div>\n",
       "<style scoped>\n",
       "    .dataframe tbody tr th:only-of-type {\n",
       "        vertical-align: middle;\n",
       "    }\n",
       "\n",
       "    .dataframe tbody tr th {\n",
       "        vertical-align: top;\n",
       "    }\n",
       "\n",
       "    .dataframe thead th {\n",
       "        text-align: right;\n",
       "    }\n",
       "</style>\n",
       "<table border=\"1\" class=\"dataframe\">\n",
       "  <thead>\n",
       "    <tr style=\"text-align: right;\">\n",
       "      <th></th>\n",
       "      <th>image_id_worm</th>\n",
       "      <th>worm_type</th>\n",
       "      <th>number_of_worms</th>\n",
       "    </tr>\n",
       "  </thead>\n",
       "  <tbody>\n",
       "    <tr>\n",
       "      <th>0</th>\n",
       "      <td>id_00084298dd030a500033ff78.jpg</td>\n",
       "      <td>-ve</td>\n",
       "      <td>0</td>\n",
       "    </tr>\n",
       "    <tr>\n",
       "      <th>1</th>\n",
       "      <td>id_000c2040da4b05816cefbb96.jpg</td>\n",
       "      <td>-ve</td>\n",
       "      <td>0</td>\n",
       "    </tr>\n",
       "    <tr>\n",
       "      <th>2</th>\n",
       "      <td>id_001e574d805941d7f2cb0302.jpg</td>\n",
       "      <td>-ve</td>\n",
       "      <td>0</td>\n",
       "    </tr>\n",
       "    <tr>\n",
       "      <th>3</th>\n",
       "      <td>id_001f4346191855c521871616.jpg</td>\n",
       "      <td>-ve</td>\n",
       "      <td>0</td>\n",
       "    </tr>\n",
       "    <tr>\n",
       "      <th>4</th>\n",
       "      <td>id_002087d55e497d26352496a4.jpg</td>\n",
       "      <td>-ve</td>\n",
       "      <td>0</td>\n",
       "    </tr>\n",
       "  </tbody>\n",
       "</table>\n",
       "</div>"
      ],
      "text/plain": [
       "                     image_id_worm worm_type  number_of_worms\n",
       "0  id_00084298dd030a500033ff78.jpg       -ve                0\n",
       "1  id_000c2040da4b05816cefbb96.jpg       -ve                0\n",
       "2  id_001e574d805941d7f2cb0302.jpg       -ve                0\n",
       "3  id_001f4346191855c521871616.jpg       -ve                0\n",
       "4  id_002087d55e497d26352496a4.jpg       -ve                0"
      ]
     },
     "execution_count": 14,
     "metadata": {},
     "output_type": "execute_result"
    }
   ],
   "source": [
    "neg.head()"
   ]
  },
  {
   "cell_type": "code",
   "execution_count": 20,
   "id": "503d0746",
   "metadata": {},
   "outputs": [
    {
     "name": "stderr",
     "output_type": "stream",
     "text": [
      "100%|██████████████████████████████████████████████████████████████████████████████| 3258/3258 [09:13<00:00,  5.89it/s]\n"
     ]
    }
   ],
   "source": [
    "path = \"C:/Users/manju/Desktop/ml-project/dataset/train/neg/\"\n",
    "\n",
    "#train_image = []\n",
    "for i in tqdm(range(neg.shape[0])):\n",
    "    img = tf.keras.utils.load_img('images/'+neg['image_id_worm'][i],target_size=(400,400),color_mode='rgb')\n",
    "    \n",
    "    img =asarray(img)\n",
    "    \n",
    "    cv2.imwrite(os.path.join(path ,neg['image_id_worm'][i] ), img)"
   ]
  },
  {
   "cell_type": "code",
   "execution_count": 3,
   "id": "89cfca64",
   "metadata": {},
   "outputs": [],
   "source": [
    "Test = pd.read_csv('Test.csv')  "
   ]
  },
  {
   "cell_type": "code",
   "execution_count": null,
   "id": "2a058599",
   "metadata": {},
   "outputs": [],
   "source": []
  },
  {
   "cell_type": "code",
   "execution_count": null,
   "id": "9624a4b0",
   "metadata": {},
   "outputs": [],
   "source": []
  },
  {
   "cell_type": "code",
   "execution_count": 5,
   "id": "18f5e6d7",
   "metadata": {},
   "outputs": [
    {
     "name": "stderr",
     "output_type": "stream",
     "text": [
      "100%|██████████████████████████████████████████████████████████████████████████████| 2803/2803 [07:08<00:00,  6.54it/s]\n"
     ]
    }
   ],
   "source": [
    "path = \"C:/Users/manju/Desktop/ml-project/dataset/test/\"\n",
    "\n",
    "#train_image = []\n",
    "for i in tqdm(range(Test.shape[0])):\n",
    "    img = tf.keras.utils.load_img('images/'+Test['image_id_worm'][i],target_size=(400,400),color_mode='rgb')\n",
    "    \n",
    "    img =asarray(img)\n",
    "    \n",
    "    cv2.imwrite(os.path.join(path ,Test['image_id_worm'][i] ), img)"
   ]
  },
  {
   "cell_type": "markdown",
   "id": "28415f5e",
   "metadata": {},
   "source": [
    "# Test Images"
   ]
  },
  {
   "cell_type": "code",
   "execution_count": 16,
   "id": "b32661fa",
   "metadata": {},
   "outputs": [],
   "source": [
    "from numpy import asarray"
   ]
  },
  {
   "cell_type": "code",
   "execution_count": 2,
   "id": "7985b145",
   "metadata": {},
   "outputs": [
    {
     "data": {
      "text/html": [
       "<div>\n",
       "<style scoped>\n",
       "    .dataframe tbody tr th:only-of-type {\n",
       "        vertical-align: middle;\n",
       "    }\n",
       "\n",
       "    .dataframe tbody tr th {\n",
       "        vertical-align: top;\n",
       "    }\n",
       "\n",
       "    .dataframe thead th {\n",
       "        text-align: right;\n",
       "    }\n",
       "</style>\n",
       "<table border=\"1\" class=\"dataframe\">\n",
       "  <thead>\n",
       "    <tr style=\"text-align: right;\">\n",
       "      <th></th>\n",
       "      <th>image_id_worm</th>\n",
       "    </tr>\n",
       "  </thead>\n",
       "  <tbody>\n",
       "    <tr>\n",
       "      <th>0</th>\n",
       "      <td>id_00332970f80fa9a47a39516d.jpg</td>\n",
       "    </tr>\n",
       "    <tr>\n",
       "      <th>1</th>\n",
       "      <td>id_0035981bc3ae42eb5b57a317.jpg</td>\n",
       "    </tr>\n",
       "    <tr>\n",
       "      <th>2</th>\n",
       "      <td>id_005102f664b820f778291dee.jpg</td>\n",
       "    </tr>\n",
       "    <tr>\n",
       "      <th>3</th>\n",
       "      <td>id_0066456f5fb2cd858c69ab39.jpg</td>\n",
       "    </tr>\n",
       "    <tr>\n",
       "      <th>4</th>\n",
       "      <td>id_007159c1fa015ba6f394deeb.jpg</td>\n",
       "    </tr>\n",
       "  </tbody>\n",
       "</table>\n",
       "</div>"
      ],
      "text/plain": [
       "                     image_id_worm\n",
       "0  id_00332970f80fa9a47a39516d.jpg\n",
       "1  id_0035981bc3ae42eb5b57a317.jpg\n",
       "2  id_005102f664b820f778291dee.jpg\n",
       "3  id_0066456f5fb2cd858c69ab39.jpg\n",
       "4  id_007159c1fa015ba6f394deeb.jpg"
      ]
     },
     "execution_count": 2,
     "metadata": {},
     "output_type": "execute_result"
    }
   ],
   "source": [
    "test = pd.read_csv('Test.csv')    # reading the csv file\n",
    "test.head()      # printing first five rows of the file"
   ]
  },
  {
   "cell_type": "code",
   "execution_count": 9,
   "id": "f0e4b6a4",
   "metadata": {},
   "outputs": [
    {
     "name": "stderr",
     "output_type": "stream",
     "text": [
      "100%|██████████████████████████████████████████████████████████████████████████████| 2803/2803 [07:23<00:00,  6.32it/s]\n"
     ]
    }
   ],
   "source": [
    "path = \"C:/Users/manju/Desktop/ml-project/train_A/\"\n",
    "\n",
    "train_image = []\n",
    "for i in tqdm(range(test.shape[0])):\n",
    "    img = tf.keras.utils.load_img('images/'+test['image_id_worm'][i],target_size=None,color_mode='rgb')\n",
    "    \n",
    "    img =asarray(img)\n",
    "    \n",
    "    cv2.imwrite(os.path.join(path ,test['image_id_worm'][i] ), img)"
   ]
  },
  {
   "cell_type": "code",
   "execution_count": 5,
   "id": "e378c45d",
   "metadata": {},
   "outputs": [
    {
     "name": "stderr",
     "output_type": "stream",
     "text": [
      "100%|██████████████████████████████████████████████████████████████████████████████| 6642/6642 [47:56<00:00,  2.31it/s]\n"
     ]
    }
   ],
   "source": [
    "\n",
    "path = \"C:/Users/manju/Desktop/ml-project/train_A/\"\n",
    "\n",
    "\n",
    "for i in tqdm(range(train.shape[0])):\n",
    "    img = tf.keras.utils.load_img('images/'+train['image_id_worm'][i],target_size=None,color_mode='rgb')\n",
    "    \n",
    "    img =asarray(img)\n",
    "    \n",
    "    cv2.imwrite(os.path.join(path ,train['image_id_worm'][i] ), img)"
   ]
  },
  {
   "cell_type": "code",
   "execution_count": null,
   "id": "69977c30",
   "metadata": {},
   "outputs": [],
   "source": [
    "path = \"C:/Users/manju/Desktop/ml-project/resize/\"\n",
    "\n",
    "train_image = []\n",
    "for i in tqdm(range(test.shape[0])):\n",
    "    img = tf.keras.utils.load_img('images/'+test['image_id_worm'][i],target_size=(200,200),color_mode='rgb')\n",
    "    \n",
    "    img =asarray(img)\n",
    "    \n",
    "    cv2.imwrite(os.path.join(path ,test['image_id_worm'][i] ), img)"
   ]
  }
 ],
 "metadata": {
  "kernelspec": {
   "display_name": "ml-project",
   "language": "python",
   "name": "ml-project"
  },
  "language_info": {
   "codemirror_mode": {
    "name": "ipython",
    "version": 3
   },
   "file_extension": ".py",
   "mimetype": "text/x-python",
   "name": "python",
   "nbconvert_exporter": "python",
   "pygments_lexer": "ipython3",
   "version": "3.10.6"
  }
 },
 "nbformat": 4,
 "nbformat_minor": 5
}
